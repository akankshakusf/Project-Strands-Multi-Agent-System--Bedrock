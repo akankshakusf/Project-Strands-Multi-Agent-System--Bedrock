{
 "cells": [
  {
   "cell_type": "markdown",
   "metadata": {},
   "source": [
    "# Multi-Agent Collaboration (MAC) Project : Hedge Fund Assistant\n",
    "---\n",
    "\n",
    "This example demonstrates a Hedge Fund Assistant using MAC principles with the following structure:\n",
    "\n",
    "- A **Supervisor Agent** powered by the Amazon Nova Lite foundation model routes user queries.\n",
    "\n",
    "- Three **Sub-Agents**:\n",
    "    - **Fundamental Analyst Agent** (uses Claude 3 Haiku as the FM)\n",
    "    - **Technical Analyst Agent** (uses Amazon Nova Lite as the FM)\n",
    "    - **Market Analyst Agent** (uses Claude 3 Haiku as the FM)\n",
    "\n",
    "Each sub-agent has access to a set of tools to fetch data, analyze it, and provide actionable insights."
   ]
  },
  {
   "cell_type": "markdown",
   "metadata": {},
   "source": [
    "#### Set a logger\n",
    "\n",
    "The Strands Agents SDK implements a straightforward logging approach:\n",
    "\n",
    "1. **Module-level Loggers**: Each module in the SDK creates its own logger using logging.getLogger(__name__), following Python best practices for hierarchical logging.\n",
    "\n",
    "2. **Root Logger**: All loggers in the SDK are children of the \"strands\" root logger, making it easy to configure logging for the entire SDK.\n",
    "\n",
    "3. **Default Behavior**: By default, the SDK doesn't configure any handlers or log levels, allowing you to integrate it with your application's logging configuration."
   ]
  },
  {
   "cell_type": "code",
   "execution_count": null,
   "metadata": {},
   "outputs": [],
   "source": [
    "# import logging and set a logger for strands\n",
    "import logging\n",
    "# import the strands agents and strands tools that we will be using\n",
    "from strands import Agent\n",
    "from strands import tool\n",
    "from strands_tools import swarm\n",
    "from typing import Optional, Dict, Any, List, Union\n",
    "\n",
    "\n",
    "# configure the root strands logger\n",
    "logging.getLogger(\"strands\").setLevel(logging.DEBUG)\n",
    "\n",
    "# add a handler to see the logs\n",
    "logging.basicConfig(\n",
    "    format=\"%(levelname)s | %(name)s | %(message)s\",\n",
    "    handlers=[logging.StreamHandler()]\n",
    ")"
   ]
  },
  {
   "cell_type": "code",
   "execution_count": null,
   "metadata": {},
   "outputs": [],
   "source": [
    "# install other requirements\n",
    "import os \n",
    "import sys \n",
    "import json \n",
    "import time\n",
    "import boto3\n",
    "import shutil \n",
    "import zipfile\n",
    "import subprocess\n",
    "import finnhub\n",
    "import uuid\n",
    "from datetime import datetime\n",
    "import requests \n",
    "import tempfile \n",
    "from litellm import completion\n",
    "from dotenv import load_dotenv\n",
    "load_dotenv(override=True)    # This will read the .env file and add variables to os.environ\n",
    "\n",
    "\n",
    "# load the environment variables that are defined in the \".env file\" . This contains the \n",
    "# financial data API key that will enable the user to access the data \n",
    "os.environ[\"LANGFUSE_PUBLIC_KEY\"]= os.getenv(\"LANGFUSE_PUBLIC_KEY\")\n",
    "os.environ[\"LANGFUSE_SECRET_KEY\"]= os.getenv(\"LANGFUSE_SECRET_KEY\")\n",
    "os.environ[\"LANGFUSE_HOST\"]= os.getenv(\"LANGFUSE_HOST\")"
   ]
  },
  {
   "cell_type": "markdown",
   "metadata": {},
   "source": [
    "### Load config file\n",
    "---\n",
    "\n",
    "This [config](config.yaml) file is a `yaml` file that contains information that this solution uses, including the result files, the model information for each of the agent used in this multi agentic system, inference parameters, and more."
   ]
  },
  {
   "cell_type": "code",
   "execution_count": 3,
   "metadata": {},
   "outputs": [
    {
     "name": "stdout",
     "output_type": "stream",
     "text": [
      "\u001b[2mAudited \u001b[1m3 packages\u001b[0m \u001b[2min 564ms\u001b[0m\u001b[0m\n"
     ]
    },
    {
     "name": "stderr",
     "output_type": "stream",
     "text": [
      "INFO | utils | Loading config from local file system: config.yaml\n",
      "INFO | utils | Loaded config from local file system: {'general': {'name': 'Financial-multi-agentic-system', 'description': 'This agentic system shows multi-agent collaboration different financial agents'}, 'model_information': {'finance_agent_model_info': {'model_id': 'us.amazon.nova-micro-v1:0', 'inference_parameters': {'temperature': 0.1}}, 'technical_agent_model_info': {'model_id': 'us.anthropic.claude-3-5-sonnet-20240620-v1:0', 'inference_parameters': {'temperature': 0.1, 'max_tokens': 512}}, 'market_analysis_agent': {'model_id': 'us.anthropic.claude-3-5-sonnet-20240620-v1:0', 'inference_parameters': {'temperature': 0.1, 'max_tokens': 512}}}, 'code_gen_model_info': {'model_id': 'us.anthropic.claude-3-5-sonnet-20240620-v1:0', 'inference_parameters': {'temperature': 0.1, 'max_tokens': 2048}}}\n"
     ]
    }
   ],
   "source": [
    "!uv pip install PyYAML aiohttp openai\n",
    "from utils import load_config\n",
    "\n",
    "# set a logger\n",
    "logging.basicConfig(format='[%(asctime)s] p%(process)s {%(filename)s:%(lineno)d} %(levelname)s - %(message)s', level=logging.INFO)\n",
    "logger = logging.getLogger(__name__)\n",
    "\n",
    "# Load the config file\n",
    "config_data = load_config('config.yaml')\n",
    "logger.info(f\"Loaded config from local file system: {json.dumps(config_data, indent=2)}\")"
   ]
  },
  {
   "cell_type": "markdown",
   "metadata": {},
   "source": [
    "### Define tools\n",
    "---\n",
    "\n",
    "This example creates a supervisor agent and integrates the three sub-agents, each having specific tools for financial data analysis:\n",
    "\n",
    "1. **Fundamental Analyst Agent**:\n",
    "    - Tools: Retrieve income statements, balance sheets, and cash flow statements.\n",
    "\n",
    "2. **Technical Analyst Agent**:\n",
    "    - Tools: Fetch stock prices, current prices, and compute technical indicators (e.g., `RSI`, `MACD`, `SMA`).\n",
    "\n",
    "3. **Market Analyst Agent**:\n",
    "    - Tools: Access options chain data, insider trading information, and market news."
   ]
  },
  {
   "cell_type": "code",
   "execution_count": 4,
   "metadata": {},
   "outputs": [
    {
     "name": "stdout",
     "output_type": "stream",
     "text": [
      "Financial Data API key found in environment variables.\n"
     ]
    }
   ],
   "source": [
    "api_key = os.environ.get(\"FINANCIAL_DATASET_API\")\n",
    "if api_key is not None:\n",
    "    print(\"Financial Data API key found in environment variables.\")\n",
    "else:\n",
    "    print(f\"API key not found, enter it in the .env file.\")"
   ]
  },
  {
   "cell_type": "code",
   "execution_count": null,
   "metadata": {},
   "outputs": [
    {
     "name": "stdout",
     "output_type": "stream",
     "text": [
      "Apple Quote: {'c': 201.895, 'd': 0.395, 'dp': 0.196, 'h': 203.08, 'l': 200.2, 'o': 203.08, 'pc': 201.5, 't': 1750780929}\n"
     ]
    }
   ],
   "source": [
    "## dry run \n",
    "client = finnhub.Client(api_key=api_key)\n",
    "quote = client.quote('AAPL')\n",
    "print(\"Apple Quote:\", quote)"
   ]
  },
  {
   "cell_type": "code",
   "execution_count": 6,
   "metadata": {},
   "outputs": [],
   "source": [
    "tool_use_ids=[]\n",
    "\n",
    "# ─── LOGGER SETUP ──────────────────────────────────────────────────────────────\n",
    "logger = logging.getLogger(__name__)\n",
    "logging.basicConfig(level=logging.INFO)\n",
    "\n",
    "def comprehensive_callback_handler(**kwargs):\n",
    "    \"\"\"\n",
    "    Enhanced comprehensive callback handler with LangSmith integration\n",
    "    \"\"\"\n",
    "    \n",
    "    # === REASONING EVENTS (Agent's thinking process) ===\n",
    "    if kwargs.get(\"reasoning\", False):\n",
    "        if \"reasoningText\" in kwargs:\n",
    "            reasoning_text = kwargs['reasoningText']\n",
    "            logger.info(f\"🧠 REASONING: {reasoning_text}\")\n",
    "            \n",
    "        if \"reasoning_signature\" in kwargs:\n",
    "            logger.info(f\"🔍 REASONING SIGNATURE: {kwargs['reasoning_signature']}\")\n",
    "    \n",
    "    # === TEXT GENERATION EVENTS ===\n",
    "    elif \"data\" in kwargs:\n",
    "        # Log streamed text chunks from the model\n",
    "        logger.info(kwargs[\"data\"], end=\"\")\n",
    "        if kwargs.get(\"complete\", False):\n",
    "            logger.info(\"\")  # Add newline when complete\n",
    "    \n",
    "    # === TOOL EVENTS ===\n",
    "    elif \"current_tool_use\" in kwargs:\n",
    "        tool = kwargs[\"current_tool_use\"]\n",
    "        tool_use_id = tool[\"toolUseId\"]\n",
    "        \n",
    "        if tool_use_id not in tool_use_ids:\n",
    "            tool_name = tool.get('name', 'unknown_tool')\n",
    "            tool_input = tool.get('input', {})\n",
    "            \n",
    "            logger.info(f\"\\n🔧 USING TOOL: {tool_name}\")\n",
    "            if \"input\" in tool:\n",
    "                logger.info(f\"📥 TOOL INPUT: {tool_input}\")\n",
    "            tool_use_ids.append(tool_use_id)\n",
    "    \n",
    "    # === TOOL RESULTS ===\n",
    "    elif \"tool_result\" in kwargs:\n",
    "        tool_result = kwargs[\"tool_result\"]\n",
    "        tool_use_id = tool_result.get(\"toolUseId\")\n",
    "        result_content = tool_result.get(\"content\", [])\n",
    "        \n",
    "        logger.info(f\"📤 TOOL RESULT: {result_content}\")\n",
    "    \n",
    "    # === LIFECYCLE EVENTS ===\n",
    "    elif kwargs.get(\"init_event_loop\", False):\n",
    "        logger.info(\"🔄 Event loop initialized\")\n",
    "        \n",
    "    elif kwargs.get(\"start_event_loop\", False):\n",
    "        logger.info(\"▶️ Event loop cycle starting\")\n",
    "        \n",
    "    elif kwargs.get(\"start\", False):\n",
    "        logger.info(\"📝 New cycle started\")\n",
    "        \n",
    "    elif kwargs.get(\"complete\", False):\n",
    "        logger.info(\"✅ Cycle completed\")\n",
    "        \n",
    "    elif kwargs.get(\"force_stop\", False):\n",
    "        reason = kwargs.get(\"force_stop_reason\", \"unknown reason\")\n",
    "        logger.info(f\"🛑 Event loop force-stopped: {reason}\")\n",
    "    \n",
    "    # === MESSAGE EVENTS ===\n",
    "    elif \"message\" in kwargs:\n",
    "        message = kwargs[\"message\"]\n",
    "        role = message.get(\"role\", \"unknown\")\n",
    "        logger.info(f\"📬 New message created: {role}\")\n",
    "    \n",
    "    # === ERROR EVENTS ===\n",
    "    elif \"error\" in kwargs:\n",
    "        error_info = kwargs[\"error\"]\n",
    "        logger.error(f\"❌ ERROR: {error_info}\")\n",
    "\n",
    "    # === RAW EVENTS (for debugging) ===\n",
    "    elif \"event\" in kwargs:\n",
    "        # Log raw events from the model stream (optional, can be verbose)\n",
    "        logger.debug(f\"🔍 RAW EVENT: {kwargs['event']}\")\n",
    "    \n",
    "    # === DELTA EVENTS ===\n",
    "    elif \"delta\" in kwargs:\n",
    "        # Raw delta content from the model\n",
    "        logger.debug(f\"📊 DELTA: {kwargs['delta']}\")\n",
    "    \n",
    "    # === CATCH-ALL FOR DEBUGGING ===\n",
    "    else:\n",
    "        # Log any other events we might have missed\n",
    "        logger.debug(f\"❓ OTHER EVENT: {kwargs}\")\n"
   ]
  },
  {
   "cell_type": "code",
   "execution_count": null,
   "metadata": {},
   "outputs": [],
   "source": [
    "# define the tools for the finance agent\n",
    "# Strands Agents SDK makes it straightforward to \n",
    "# turn Python functions into callable tools within an AI agent.\n",
    "\n",
    "# transform any Python function into a tool simply by adding the @tool decorator—its \n",
    "# docstring and type hints automatically generate the tool's specification\n",
    "\n",
    "## TOOL 1\n",
    "@tool\n",
    "def get_income_statements(\n",
    "    ticker: str, \n",
    "    period: str = \"ttm\", \n",
    "    limit: int = 10\n",
    ") -> Dict:\n",
    "    \"\"\"\n",
    "    Get income statements for a ticker. This is one of the functions that is used to get the \n",
    "    income statements based on the ticker specified by the user\n",
    "    \n",
    "    Args:\n",
    "        ticker (str): Stock ticker symbol (e.g., 'AAPL', 'MSFT', 'GOOGL')\n",
    "        period (str, optional): Time period for the data. Options:\n",
    "            - 'ttm': Trailing twelve months (default)\n",
    "            - 'annual': Annual data\n",
    "            - 'quarterly': Quarterly data\n",
    "        limit (int, optional): Maximum number of statements to return (default: 10)\n",
    "        \n",
    "    Returns:\n",
    "        Dict: JSON response containing income statement data\n",
    "        \n",
    "    Raises:\n",
    "        RuntimeError: If API key is missing or API request fails\n",
    "    \"\"\"\n",
    "    api_key = os.environ.get(\"FINANCIAL_DATASET_API\")\n",
    "    if not api_key:\n",
    "        return {\"error\": \"Missing FINANCIAL_DATASET_API environment variable\"}\n",
    "\n",
    "    url = (\n",
    "        f'https://api.financialdatasets.ai/financials/income-statements'\n",
    "        f'?ticker={ticker}'\n",
    "        f'&period={period}'\n",
    "        f'&limit={limit}'\n",
    "    )\n",
    "\n",
    "    try:\n",
    "        response = requests.get(url, headers={'X-API-Key': api_key})\n",
    "        print(f\"OUTPUT FROM THE GET_INCOME_STATEMENTS TOOL: {response.json()}\")\n",
    "        return response.json()\n",
    "    except Exception as e:\n",
    "        return {\"ticker\": ticker, \"income_statements\": [], \"error\": str(e)}\n",
    "\n",
    "## TOOL 2\n",
    "@tool\n",
    "def get_balance_sheets(\n",
    "    ticker: str, \n",
    "    period: str = \"ttm\", \n",
    "    limit: int = 10\n",
    ") -> Dict:\n",
    "    \"\"\"\n",
    "    Get balance sheets for a ticker and the specified limit and time period\n",
    "    \n",
    "    Args:\n",
    "        ticker (str): Stock ticker symbol (e.g., 'AAPL', 'MSFT', 'GOOGL')\n",
    "        period (str, optional): Time period for the data. Options:\n",
    "            - 'ttm': Trailing twelve months (default)\n",
    "            - 'annual': Annual data\n",
    "            - 'quarterly': Quarterly data\n",
    "        limit (int, optional): Maximum number of balance sheets to return (default: 10)\n",
    "        \n",
    "    Returns:\n",
    "        Dict: JSON response containing balance sheet data\n",
    "        \n",
    "    Raises:\n",
    "        RuntimeError: If API key is missing or API request fails\n",
    "    \"\"\"\n",
    "    api_key = os.environ.get(\"FINANCIAL_DATASET_API\")\n",
    "    if not api_key:\n",
    "        return {\"error\": \"Missing FINANCIAL_DATASET_API environment variable\"}\n",
    "\n",
    "    url = (\n",
    "        f'https://api.financialdatasets.ai/financials/balance-sheets'\n",
    "        f'?ticker={ticker}'\n",
    "        f'&period={period}'\n",
    "        f'&limit={limit}'\n",
    "    )\n",
    "\n",
    "    try:\n",
    "        response = requests.get(url, headers={'X-API-Key': api_key})\n",
    "        print(f\"OUTPUT FROM THE GET_BALANCE_SHEETS TOOL: {response.json()}\")\n",
    "        return response.json()\n",
    "    except Exception as e:\n",
    "        return {\"ticker\": ticker, \"balance_sheets\": [], \"error\": str(e)}\n",
    "\n",
    "## TOOL 3\n",
    "@tool\n",
    "def get_cash_flow_statements(\n",
    "    ticker: str, \n",
    "    period: str = \"ttm\", \n",
    "    limit: int = 10\n",
    ") -> Dict:\n",
    "    \"\"\"\n",
    "    Get cash flow statements for a ticker\n",
    "    \n",
    "    Args:\n",
    "        ticker (str): Stock ticker symbol (e.g., 'AAPL', 'MSFT', 'GOOGL')\n",
    "        period (str, optional): Time period for the data. Options:\n",
    "            - 'ttm': Trailing twelve months (default)\n",
    "            - 'annual': Annual data\n",
    "            - 'quarterly': Quarterly data\n",
    "        limit (int, optional): Maximum number of cash flow statements to return (default: 10)\n",
    "        \n",
    "    Returns:\n",
    "        Dict: JSON response containing cash flow data\n",
    "        \n",
    "    Raises:\n",
    "        RuntimeError: If API key is missing or API request fails\n",
    "    \"\"\"\n",
    "    api_key = os.environ.get(\"FINANCIAL_DATASET_API\")\n",
    "    if not api_key:\n",
    "        return {\"error\": \"Missing FINANCIAL_DATASET_API environment variable\"}\n",
    "\n",
    "    url = (\n",
    "        f'https://api.financialdatasets.ai/financials/cash-flow-statements'\n",
    "        f'?ticker={ticker}'\n",
    "        f'&period={period}'\n",
    "        f'&limit={limit}'\n",
    "    )\n",
    "\n",
    "    try:\n",
    "        response = requests.get(url, headers={'X-API-Key': api_key})\n",
    "        # fetch and return the output of the api call in the response\n",
    "        print(f\"OUTPUT FROM THE GET_CASH_FLOW_STATEMENTS TOOL: {response.json()}\")\n",
    "        return response.json()\n",
    "    except Exception as e:\n",
    "        return {\"ticker\": ticker, \"cash_flow_statements\": [], \"error\": str(e)}"
   ]
  },
  {
   "cell_type": "markdown",
   "metadata": {},
   "source": [
    "#### Create a custom python code execution tool\n",
    "---\n",
    "\n",
    "In this section, we will create a custom tool that lets you configure or use a model of choice to generate code based on the content and the user question and then execute that tool as well."
   ]
  },
  {
   "cell_type": "code",
   "execution_count": 8,
   "metadata": {},
   "outputs": [],
   "source": [
    "# Represent the code execution prompt for the LLM\n",
    "CODE_EXEC_PROMPT : str = \"\"\"You are a Python code generator. Generate clean, efficient, and safe Python code based on the user's requirements.\n",
    "\n",
    "Guidelines:\n",
    "1. Only generate executable Python code\n",
    "2. Include necessary imports at the top\n",
    "3. Add comments to explain complex logic \n",
    "4. Handle potential errors gracefully\n",
    "5. Keep code concise but readable\n",
    "6. Do not include any harmful or system-modifying operations\n",
    "7. Focus on data processing, calculations, and analysis tasks\n",
    "8. If working with data, assume it might be passed as context \n",
    "9. Print results using print() statements so they appear in output\n",
    "\n",
    "Always adhere to the user question and generate python code based on what the user is asking.\n",
    "\n",
    "Return ONLY the python code, no explainations or markdown formatting.\"\"\""
   ]
  },
  {
   "cell_type": "code",
   "execution_count": 9,
   "metadata": {},
   "outputs": [
    {
     "name": "stdout",
     "output_type": "stream",
     "text": [
      "\u001b[2mAudited \u001b[1m3 packages\u001b[0m \u001b[2min 418ms\u001b[0m\u001b[0m\n"
     ]
    }
   ],
   "source": [
    "! uv pip install tiktoken tokenizer jinja2"
   ]
  },
  {
   "cell_type": "code",
   "execution_count": 10,
   "metadata": {},
   "outputs": [
    {
     "name": "stdout",
     "output_type": "stream",
     "text": [
      "Name: litellm\n",
      "Version: 1.72.7\n",
      "Location: /mnt/c/code/Projects/Agentic_AI_AutoGen/AWSBedrock-Project-strands-multi-agentic-system/.venv/lib/python3.12/site-packages\n",
      "Requires: aiohttp, click, httpx, importlib-metadata, jinja2, jsonschema, openai, pydantic, python-dotenv, tiktoken, tokenizers\n",
      "Required-by: financial-analysis-multi-agent-collaboration\n"
     ]
    }
   ],
   "source": [
    "! uv pip show litellm"
   ]
  },
  {
   "cell_type": "markdown",
   "metadata": {},
   "source": [
    "### Define the system prompt for the financial agent\n",
    "---"
   ]
  },
  {
   "cell_type": "code",
   "execution_count": 13,
   "metadata": {},
   "outputs": [],
   "source": [
    "# set a logger\n",
    "logging.basicConfig(format='[%(asctime)s] p%(process)s {%(filename)s:%(lineno)d} %(levelname)s - %(message)s', level=logging.INFO)\n",
    "logger = logging.getLogger(__name__)"
   ]
  },
  {
   "cell_type": "code",
   "execution_count": 14,
   "metadata": {},
   "outputs": [
    {
     "name": "stdout",
     "output_type": "stream",
     "text": [
      "Going to use the financial agent system prompt: You are a comprehensive fundamental analyst assistant that helps users analyze company financial statements across three key areas: income statements, balance sheets, and cash flow statements.\n",
      "You require the user to provide a stock ticker symbol to analyze the company's financials.\n",
      "\n",
      "You can perform the following types of analysis by calling the functions below:\n",
      "\n",
      "1. Income Statement Analysis:\n",
      "   - Revenue growth, gross profit, operating income, net income, earnings per share, and revenue/expense breakdown\n",
      "\n",
      "2. Balance Sheet Analysis:\n",
      "   - Asset composition (current and non-current), liabilities (current and non-current), shareholders' equity, retained earnings, and financial ratios (current ratio, debt-to-equity)\n",
      "\n",
      "3. Cash Flow Statement Analysis:\n",
      "   - Net cash flow from operations, capital expenditures, business acquisitions, issuance/repayment of debt, dividends, and changes in cash and equivalents\n",
      "\n",
      "IMPORTANT: Always use the financial dataset API you have access to call these functions and retrieve the data to answer the user question\n",
      "\n",
      "If you do not have access to the data that the user is asking for, do not make up an answer, just say that you do not know the answer. Be completely\n",
      "accurate. Do not provide answers to anything but on the topic specified above. Always give information on where you got the data to answer the user question\n",
      "and do not redact anything in your response.\n",
      "\n",
      "Also, use the python repl tool function at the very end to generate report and analysis based on the context fetched so far and store\n",
      "that in a file or provide that as an output.\n",
      "\n"
     ]
    }
   ],
   "source": [
    "# This is the system prompt that will be used for the financial agent\n",
    "financial_agent_instruction = \"\"\"You are a comprehensive fundamental analyst assistant that helps users analyze company financial statements across three key areas: income statements, balance sheets, and cash flow statements.\n",
    "You require the user to provide a stock ticker symbol to analyze the company's financials.\n",
    "\n",
    "You can perform the following types of analysis by calling the functions below:\n",
    "\n",
    "1. Income Statement Analysis:\n",
    "   - Revenue growth, gross profit, operating income, net income, earnings per share, and revenue/expense breakdown\n",
    "\n",
    "2. Balance Sheet Analysis:\n",
    "   - Asset composition (current and non-current), liabilities (current and non-current), shareholders' equity, retained earnings, and financial ratios (current ratio, debt-to-equity)\n",
    "\n",
    "3. Cash Flow Statement Analysis:\n",
    "   - Net cash flow from operations, capital expenditures, business acquisitions, issuance/repayment of debt, dividends, and changes in cash and equivalents\n",
    "\n",
    "IMPORTANT: Always use the financial dataset API you have access to call these functions and retrieve the data to answer the user question\n",
    "\n",
    "If you do not have access to the data that the user is asking for, do not make up an answer, just say that you do not know the answer. Be completely\n",
    "accurate. Do not provide answers to anything but on the topic specified above. Always give information on where you got the data to answer the user question\n",
    "and do not redact anything in your response.\n",
    "\n",
    "Also, use the python repl tool function at the very end to generate report and analysis based on the context fetched so far and store\n",
    "that in a file or provide that as an output.\n",
    "\"\"\"\n",
    "print(f\"Going to use the financial agent system prompt: {financial_agent_instruction}\")"
   ]
  },
  {
   "cell_type": "code",
   "execution_count": 15,
   "metadata": {},
   "outputs": [
    {
     "name": "stdout",
     "output_type": "stream",
     "text": [
      "Fetched the agent model information: {'model_id': 'us.amazon.nova-micro-v1:0', 'inference_parameters': {'temperature': 0.1}}\n"
     ]
    }
   ],
   "source": [
    "# get the model information for the finance agent \n",
    "finance_agent_model_info: Dict = config_data['model_information'].get('finance_agent_model_info')\n",
    "print(f\"Fetched the agent model information: {finance_agent_model_info}\")"
   ]
  },
  {
   "cell_type": "code",
   "execution_count": 16,
   "metadata": {},
   "outputs": [
    {
     "name": "stderr",
     "output_type": "stream",
     "text": [
      "DEBUG | strands.models.bedrock | config=<{'model_id': 'us.amazon.nova-micro-v1:0', 'temperature': 0.1}> | initializing\n"
     ]
    },
    {
     "name": "stdout",
     "output_type": "stream",
     "text": [
      "Going to use the agent in the region: us-east-1\n",
      "Initialized the bedrock model for the finance agent: <strands.models.bedrock.BedrockModel object at 0x7fc2aa716090>\n"
     ]
    }
   ],
   "source": [
    "# initialize the model that will power the financial agent\n",
    "# in this case, we will use the claude 3-7 model to power the financial agent\n",
    "from strands.models import BedrockModel\n",
    "\n",
    "# define the current aws region\n",
    "region :str = boto3.Session().region_name\n",
    "print(f\"Going to use the agent in the region: {region}\")\n",
    "\n",
    "# create a bedrock model using the BedrockModel interface\n",
    "bedrock_model = BedrockModel(\n",
    "    model_id=finance_agent_model_info.get('model_id'),\n",
    "    region_name = region,\n",
    "    temperature= finance_agent_model_info['inference_parameters'].get('temperature')\n",
    ")\n",
    "print(f\"Initialized the bedrock model for the finance agent: {bedrock_model}\")"
   ]
  },
  {
   "cell_type": "markdown",
   "metadata": {},
   "source": [
    "### Create the financial agent\n",
    "---\n",
    "\n",
    "Next, we will simply create the finance agent. We will use a Callback handler function in this case. We will implement the custom callback function. This will be invoked at various points throughout the financial agent's lifecycle. \n",
    "\n",
    "Here is an example that captures streamed data from the agent and logs instead of printing:\n",
    "\n",
    "### What are Callback handlers in Strands SDK?\n",
    "\n",
    "Callback handlers are a powerful feature for Strands SDK that enables the user to intercept and process the events as they are occurring during the agent execution process. This means that the agent will be able to handle real time monitoring, custom output formatting and integration with other external systems.\n",
    "\n",
    "This handling is done and can occur throughout the agent's lifecycle and includes:\n",
    "\n",
    "1. The text generation process that is done with the model that underlies the agent. If the agent is generating text then the callback handler will catch that and emit it out during the agent execution process.\n",
    "\n",
    "2. If the agent is using tools or has tools associated with it, then the agent will be using that and executing that. As a part of that process, the callback handler can catch those traces and emit it out for real time processing.\n",
    "\n",
    "3. Reasoning process: If you want to handle the traces or track the reasoning process of the agent based on the LLM thinking to debug and optimize performance, that is possible through callback handlers as well.\n",
    "\n",
    "4. Errors and completions: If there are any errors or completions during the process we can handle that using the callback handler functionality as well.\n",
    "\n",
    "For more information on what you can log with Callback handler events, view the documentation [here](https://strandsagents.com/0.1.x/user-guide/concepts/streaming/callback-handlers/)."
   ]
  },
  {
   "cell_type": "code",
   "execution_count": 17,
   "metadata": {},
   "outputs": [],
   "source": [
    "# we will now set up logging for the agent using langfuse\n",
    "import base64\n",
    "otel_host = os.environ.get('LANGFUSE_HOST')\n",
    "if otel_host:\n",
    "    # Set up endpoint for OpenTelemetry\n",
    "    otel_endpoint = str(os.environ.get(\"LANGFUSE_HOST\")) + \"/api/public/otel/v1/traces\"\n",
    "\n",
    "    # Create authentication token for OpenTelemetry\n",
    "    auth_token = base64.b64encode(\n",
    "        f\"{os.environ.get('LANGFUSE_PUBLIC_KEY')}:{os.environ.get('LANGFUSE_SECRET_KEY')}\".encode()\n",
    "    ).decode()\n",
    "    os.environ[\"OTEL_EXPORTER_OTLP_ENDPOINT\"] = otel_endpoint\n",
    "    os.environ[\"OTEL_EXPORTER_OTLP_HEADERS\"] = f\"Authorization=Basic {auth_token}\""
   ]
  },
  {
   "cell_type": "code",
   "execution_count": 18,
   "metadata": {},
   "outputs": [
    {
     "name": "stdout",
     "output_type": "stream",
     "text": [
      "Requirement already satisfied: strands-agents[otel] in ./.venv/lib/python3.12/site-packages (0.1.8)\n",
      "Requirement already satisfied: boto3<2.0.0,>=1.26.0 in ./.venv/lib/python3.12/site-packages (from strands-agents[otel]) (1.38.41)\n",
      "Requirement already satisfied: botocore<2.0.0,>=1.29.0 in ./.venv/lib/python3.12/site-packages (from strands-agents[otel]) (1.38.41)\n",
      "Requirement already satisfied: docstring-parser<1.0,>=0.15 in ./.venv/lib/python3.12/site-packages (from strands-agents[otel]) (0.16)\n",
      "Requirement already satisfied: mcp<2.0.0,>=1.8.0 in ./.venv/lib/python3.12/site-packages (from strands-agents[otel]) (1.9.4)\n",
      "Requirement already satisfied: opentelemetry-api<2.0.0,>=1.30.0 in ./.venv/lib/python3.12/site-packages (from strands-agents[otel]) (1.34.1)\n",
      "Requirement already satisfied: opentelemetry-sdk<2.0.0,>=1.30.0 in ./.venv/lib/python3.12/site-packages (from strands-agents[otel]) (1.34.1)\n",
      "Requirement already satisfied: pydantic<3.0.0,>=2.0.0 in ./.venv/lib/python3.12/site-packages (from strands-agents[otel]) (2.11.7)\n",
      "Requirement already satisfied: typing-extensions<5.0.0,>=4.13.2 in ./.venv/lib/python3.12/site-packages (from strands-agents[otel]) (4.14.0)\n",
      "Requirement already satisfied: watchdog<7.0.0,>=6.0.0 in ./.venv/lib/python3.12/site-packages (from strands-agents[otel]) (6.0.0)\n",
      "Requirement already satisfied: opentelemetry-exporter-otlp-proto-http<2.0.0,>=1.30.0 in ./.venv/lib/python3.12/site-packages (from strands-agents[otel]) (1.34.1)\n",
      "Requirement already satisfied: jmespath<2.0.0,>=0.7.1 in ./.venv/lib/python3.12/site-packages (from boto3<2.0.0,>=1.26.0->strands-agents[otel]) (1.0.1)\n",
      "Requirement already satisfied: s3transfer<0.14.0,>=0.13.0 in ./.venv/lib/python3.12/site-packages (from boto3<2.0.0,>=1.26.0->strands-agents[otel]) (0.13.0)\n",
      "Requirement already satisfied: python-dateutil<3.0.0,>=2.1 in ./.venv/lib/python3.12/site-packages (from botocore<2.0.0,>=1.29.0->strands-agents[otel]) (2.9.0.post0)\n",
      "Requirement already satisfied: urllib3!=2.2.0,<3,>=1.25.4 in ./.venv/lib/python3.12/site-packages (from botocore<2.0.0,>=1.29.0->strands-agents[otel]) (2.5.0)\n",
      "Requirement already satisfied: anyio>=4.5 in ./.venv/lib/python3.12/site-packages (from mcp<2.0.0,>=1.8.0->strands-agents[otel]) (4.9.0)\n",
      "Requirement already satisfied: httpx-sse>=0.4 in ./.venv/lib/python3.12/site-packages (from mcp<2.0.0,>=1.8.0->strands-agents[otel]) (0.4.0)\n",
      "Requirement already satisfied: httpx>=0.27 in ./.venv/lib/python3.12/site-packages (from mcp<2.0.0,>=1.8.0->strands-agents[otel]) (0.28.1)\n",
      "Requirement already satisfied: pydantic-settings>=2.5.2 in ./.venv/lib/python3.12/site-packages (from mcp<2.0.0,>=1.8.0->strands-agents[otel]) (2.9.1)\n",
      "Requirement already satisfied: python-multipart>=0.0.9 in ./.venv/lib/python3.12/site-packages (from mcp<2.0.0,>=1.8.0->strands-agents[otel]) (0.0.20)\n",
      "Requirement already satisfied: sse-starlette>=1.6.1 in ./.venv/lib/python3.12/site-packages (from mcp<2.0.0,>=1.8.0->strands-agents[otel]) (2.3.6)\n",
      "Requirement already satisfied: starlette>=0.27 in ./.venv/lib/python3.12/site-packages (from mcp<2.0.0,>=1.8.0->strands-agents[otel]) (0.47.0)\n",
      "Requirement already satisfied: uvicorn>=0.23.1 in ./.venv/lib/python3.12/site-packages (from mcp<2.0.0,>=1.8.0->strands-agents[otel]) (0.34.3)\n",
      "Requirement already satisfied: importlib-metadata<8.8.0,>=6.0 in ./.venv/lib/python3.12/site-packages (from opentelemetry-api<2.0.0,>=1.30.0->strands-agents[otel]) (8.7.0)\n",
      "Requirement already satisfied: googleapis-common-protos~=1.52 in ./.venv/lib/python3.12/site-packages (from opentelemetry-exporter-otlp-proto-http<2.0.0,>=1.30.0->strands-agents[otel]) (1.70.0)\n",
      "Requirement already satisfied: opentelemetry-exporter-otlp-proto-common==1.34.1 in ./.venv/lib/python3.12/site-packages (from opentelemetry-exporter-otlp-proto-http<2.0.0,>=1.30.0->strands-agents[otel]) (1.34.1)\n",
      "Requirement already satisfied: opentelemetry-proto==1.34.1 in ./.venv/lib/python3.12/site-packages (from opentelemetry-exporter-otlp-proto-http<2.0.0,>=1.30.0->strands-agents[otel]) (1.34.1)\n",
      "Requirement already satisfied: requests~=2.7 in ./.venv/lib/python3.12/site-packages (from opentelemetry-exporter-otlp-proto-http<2.0.0,>=1.30.0->strands-agents[otel]) (2.32.4)\n",
      "Requirement already satisfied: protobuf<6.0,>=5.0 in ./.venv/lib/python3.12/site-packages (from opentelemetry-proto==1.34.1->opentelemetry-exporter-otlp-proto-http<2.0.0,>=1.30.0->strands-agents[otel]) (5.29.5)\n",
      "Requirement already satisfied: opentelemetry-semantic-conventions==0.55b1 in ./.venv/lib/python3.12/site-packages (from opentelemetry-sdk<2.0.0,>=1.30.0->strands-agents[otel]) (0.55b1)\n",
      "Requirement already satisfied: annotated-types>=0.6.0 in ./.venv/lib/python3.12/site-packages (from pydantic<3.0.0,>=2.0.0->strands-agents[otel]) (0.7.0)\n",
      "Requirement already satisfied: pydantic-core==2.33.2 in ./.venv/lib/python3.12/site-packages (from pydantic<3.0.0,>=2.0.0->strands-agents[otel]) (2.33.2)\n",
      "Requirement already satisfied: typing-inspection>=0.4.0 in ./.venv/lib/python3.12/site-packages (from pydantic<3.0.0,>=2.0.0->strands-agents[otel]) (0.4.1)\n",
      "Requirement already satisfied: idna>=2.8 in ./.venv/lib/python3.12/site-packages (from anyio>=4.5->mcp<2.0.0,>=1.8.0->strands-agents[otel]) (3.10)\n",
      "Requirement already satisfied: sniffio>=1.1 in ./.venv/lib/python3.12/site-packages (from anyio>=4.5->mcp<2.0.0,>=1.8.0->strands-agents[otel]) (1.3.1)\n",
      "Requirement already satisfied: certifi in ./.venv/lib/python3.12/site-packages (from httpx>=0.27->mcp<2.0.0,>=1.8.0->strands-agents[otel]) (2025.6.15)\n",
      "Requirement already satisfied: httpcore==1.* in ./.venv/lib/python3.12/site-packages (from httpx>=0.27->mcp<2.0.0,>=1.8.0->strands-agents[otel]) (1.0.9)\n",
      "Requirement already satisfied: h11>=0.16 in ./.venv/lib/python3.12/site-packages (from httpcore==1.*->httpx>=0.27->mcp<2.0.0,>=1.8.0->strands-agents[otel]) (0.16.0)\n",
      "Requirement already satisfied: zipp>=3.20 in ./.venv/lib/python3.12/site-packages (from importlib-metadata<8.8.0,>=6.0->opentelemetry-api<2.0.0,>=1.30.0->strands-agents[otel]) (3.23.0)\n",
      "Requirement already satisfied: python-dotenv>=0.21.0 in ./.venv/lib/python3.12/site-packages (from pydantic-settings>=2.5.2->mcp<2.0.0,>=1.8.0->strands-agents[otel]) (1.1.0)\n",
      "Requirement already satisfied: six>=1.5 in ./.venv/lib/python3.12/site-packages (from python-dateutil<3.0.0,>=2.1->botocore<2.0.0,>=1.29.0->strands-agents[otel]) (1.17.0)\n",
      "Requirement already satisfied: charset_normalizer<4,>=2 in ./.venv/lib/python3.12/site-packages (from requests~=2.7->opentelemetry-exporter-otlp-proto-http<2.0.0,>=1.30.0->strands-agents[otel]) (3.4.2)\n",
      "Requirement already satisfied: click>=7.0 in ./.venv/lib/python3.12/site-packages (from uvicorn>=0.23.1->mcp<2.0.0,>=1.8.0->strands-agents[otel]) (8.2.1)\n"
     ]
    }
   ],
   "source": [
    "# ! pip install \"strands-agents[otel]\""
   ]
  },
  {
   "cell_type": "code",
   "execution_count": 19,
   "metadata": {},
   "outputs": [
    {
     "name": "stderr",
     "output_type": "stream",
     "text": [
      "DEBUG | strands.models.bedrock | config=<{'model_id': 'us.anthropic.claude-3-7-sonnet-20250219-v1:0'}> | initializing\n",
      "DEBUG | strands.tools.registry | tool_name=<get_income_statements> | registering function tool\n",
      "DEBUG | strands.tools.registry | tool_name=<get_income_statements>, tool_type=<function>, is_dynamic=<False> | registering tool\n",
      "DEBUG | strands.tools.registry | tool_name=<get_balance_sheets> | registering function tool\n",
      "DEBUG | strands.tools.registry | tool_name=<get_balance_sheets>, tool_type=<function>, is_dynamic=<False> | registering tool\n",
      "DEBUG | strands.tools.registry | tool_name=<get_cash_flow_statements> | registering function tool\n",
      "DEBUG | strands.tools.registry | tool_name=<get_cash_flow_statements>, tool_type=<function>, is_dynamic=<False> | registering tool\n",
      "DEBUG | strands.tools.registry | tool_name=<calculator>, tool_type=<function>, is_dynamic=<False> | registering tool\n",
      "DEBUG | strands.tools.loader | tool_path=</mnt/c/code/Projects/Agentic_AI_AutoGen/AWSBedrock-Project-strands-multi-agentic-system/.venv/lib/python3.12/site-packages/strands_tools/python_repl.py> | loading python tool from path\n",
      "DEBUG | strands.tools.registry | tool_name=<python_repl>, tool_type=<python>, is_dynamic=<True> | registering tool\n",
      "DEBUG | strands.tools.registry | tool_name=<python_repl>, tool_type=<python> | skipping hot reloading\n",
      "DEBUG | strands.tools.loader | tool_path=</mnt/c/code/Projects/Agentic_AI_AutoGen/AWSBedrock-Project-strands-multi-agentic-system/.venv/lib/python3.12/site-packages/strands_tools/file_read.py> | loading python tool from path\n",
      "DEBUG | strands.tools.registry | tool_name=<file_read>, tool_type=<python>, is_dynamic=<True> | registering tool\n",
      "DEBUG | strands.tools.registry | tool_name=<file_read>, tool_type=<python> | skipping hot reloading\n",
      "DEBUG | strands.tools.loader | tool_path=</mnt/c/code/Projects/Agentic_AI_AutoGen/AWSBedrock-Project-strands-multi-agentic-system/.venv/lib/python3.12/site-packages/strands_tools/mem0_memory.py> | loading python tool from path\n",
      "DEBUG | strands.tools.registry | tool_name=<mem0_memory>, tool_type=<python>, is_dynamic=<True> | registering tool\n",
      "DEBUG | strands.tools.registry | tool_name=<mem0_memory>, tool_type=<python> | skipping hot reloading\n",
      "DEBUG | strands.tools.registry | tool_name=<current_time>, tool_type=<function>, is_dynamic=<False> | registering tool\n",
      "DEBUG | strands.tools.loader | tool_path=</mnt/c/code/Projects/Agentic_AI_AutoGen/AWSBedrock-Project-strands-multi-agentic-system/.venv/lib/python3.12/site-packages/strands_tools/journal.py> | loading python tool from path\n",
      "DEBUG | strands.tools.registry | tool_name=<journal>, tool_type=<python>, is_dynamic=<True> | registering tool\n",
      "DEBUG | strands.tools.registry | tool_name=<journal>, tool_type=<python> | skipping hot reloading\n",
      "DEBUG | strands.tools.registry | tools_dir=</mnt/c/code/Projects/Agentic_AI_AutoGen/AWSBedrock-Project-strands-multi-agentic-system/tools> | tools directory not found\n",
      "DEBUG | strands.tools.registry | tool_modules=<[]> | discovered\n",
      "DEBUG | strands.tools.registry | tool_count=<0>, success_count=<0> | finished loading tools\n",
      "DEBUG | strands.tools.registry | tools_dir=</mnt/c/code/Projects/Agentic_AI_AutoGen/AWSBedrock-Project-strands-multi-agentic-system/tools> | tools directory not found\n",
      "DEBUG | strands.tools.watcher | tool directory watching initialized\n",
      "INFO | strands.telemetry.tracer | initializing tracer\n",
      "INFO | strands.telemetry.tracer | endpoint=<https://us.cloud.langfuse.com/api/public/otel/v1/traces> | OTLP exporter configured with endpoint\n"
     ]
    }
   ],
   "source": [
    "# import the prebuilt tools.\n",
    "# Calculator: Perform mathematical operations\n",
    "# file_read: Read and parse files\n",
    "# mem0_memory: Tool for managing memories using Mem0 (store, delete, list, get, and retrieve)\n",
    "# python_repl: Run Python code\n",
    "# current_time: Get the current date and time\n",
    "# journal: Create structured tasks and logs for agents to manage and work from\n",
    "from strands_tools import calculator, file_read, mem0_memory, python_repl, current_time, journal, python_repl\n",
    "\n",
    "# Generate a unique session ID using UUID\n",
    "session_id = str(uuid.uuid4())\n",
    "\n",
    "# Create the financial agent\n",
    "finance_agent = Agent(\n",
    "    # this is the system prompt to the strands agent\n",
    "    system_prompt=financial_agent_instruction, \n",
    "    # use the tools from the ones defined above for the \n",
    "    # finance agent\n",
    "    tools = [\n",
    "             # These are the custom built tools that the finance \n",
    "             # agent will use\n",
    "             get_income_statements, \n",
    "             get_balance_sheets,\n",
    "             get_cash_flow_statements, \n",
    "             # These are the prebuilt set of tools that the \n",
    "             # strands sdk agent already offers\n",
    "             calculator, \n",
    "             python_repl, \n",
    "             file_read, \n",
    "             mem0_memory, \n",
    "             current_time, \n",
    "             journal],\n",
    "    # define the callback handler in this case\n",
    "    # This callback handler logs the reasoning, tool, lifecycle, \n",
    "    # raw, delta and message events.\n",
    "    callback_handler=comprehensive_callback_handler, \n",
    "    trace_attributes={\n",
    "            \"session.id\": session_id,  # Use UUID for unique session tracking\n",
    "            \"user.id\": \"agent-builder@strandsagents.com\",\n",
    "            \"langfuse.tags\": [\n",
    "                \"Strands-Agents-Builder\",\n",
    "            ],\n",
    "        }\n",
    ")"
   ]
  },
  {
   "cell_type": "code",
   "execution_count": 20,
   "metadata": {},
   "outputs": [
    {
     "data": {
      "text/plain": [
       "<strands.models.bedrock.BedrockModel at 0x7fc281e1a990>"
      ]
     },
     "execution_count": 20,
     "metadata": {},
     "output_type": "execute_result"
    }
   ],
   "source": [
    "# view some of the tools and the model through the agent config \n",
    "finance_agent.model"
   ]
  },
  {
   "cell_type": "code",
   "execution_count": 23,
   "metadata": {},
   "outputs": [],
   "source": [
    "# view the details of the tools in a more human readable manner\n",
    "def print_tools_summary(config):\n",
    "    \"\"\"Print a summary of all tools\"\"\"\n",
    "    tools = config.get('tools', [])\n",
    "    \n",
    "    print(\"=\" * 60)\n",
    "    print(f\"AGENT TOOLS SUMMARY\")\n",
    "    print(\"=\" * 60)\n",
    "    print(f\"Total number of tools: {len(tools)}\")\n",
    "    print()\n",
    "    \n",
    "    for i, tool in enumerate(tools, 1):\n",
    "        tool_spec = tool.get('toolSpec', {})\n",
    "        name = tool_spec.get('name', 'Unknown')\n",
    "        description = tool_spec.get('description', 'No description available')\n",
    "        \n",
    "        # Extract the first line of description for summary\n",
    "        first_line = description.split('\\n')[0] if description else 'No description'\n",
    "        \n",
    "        print(f\"{i}. {name}\")\n",
    "        print(f\"   Summary: {first_line}\")\n",
    "        print()"
   ]
  },
  {
   "cell_type": "code",
   "execution_count": 24,
   "metadata": {},
   "outputs": [
    {
     "name": "stderr",
     "output_type": "stream",
     "text": [
      "DEBUG | strands.tools.registry | getting tool configurations\n",
      "DEBUG | strands.tools.registry | tool_name=<get_income_statements> | loaded tool config\n",
      "DEBUG | strands.tools.registry | tool_name=<get_balance_sheets> | loaded tool config\n",
      "DEBUG | strands.tools.registry | tool_name=<get_cash_flow_statements> | loaded tool config\n",
      "DEBUG | strands.tools.registry | tool_name=<calculator> | loaded tool config\n",
      "DEBUG | strands.tools.registry | tool_name=<python_repl> | loaded tool config\n",
      "DEBUG | strands.tools.registry | tool_name=<file_read> | loaded tool config\n",
      "DEBUG | strands.tools.registry | tool_name=<mem0_memory> | loaded tool config\n",
      "DEBUG | strands.tools.registry | tool_name=<current_time> | loaded tool config\n",
      "DEBUG | strands.tools.registry | tool_name=<journal> | loaded tool config\n",
      "DEBUG | strands.tools.registry | tool_count=<9> | tools configured\n"
     ]
    },
    {
     "name": "stdout",
     "output_type": "stream",
     "text": [
      "============================================================\n",
      "AGENT TOOLS SUMMARY\n",
      "============================================================\n",
      "Total number of tools: 9\n",
      "\n",
      "1. get_income_statements\n",
      "   Summary: Get income statements for a ticker. This is one of the functions that is used to get the \n",
      "\n",
      "2. get_balance_sheets\n",
      "   Summary: Get balance sheets for a ticker and the specified limit and time period\n",
      "\n",
      "3. get_cash_flow_statements\n",
      "   Summary: Get cash flow statements for a ticker\n",
      "\n",
      "4. calculator\n",
      "   Summary: Calculator powered by SymPy for comprehensive mathematical operations.\n",
      "\n",
      "5. python_repl\n",
      "   Summary: Execute Python code in a REPL environment with interactive PTY support and state persistence.\n",
      "\n",
      "6. file_read\n",
      "   Summary: File reading tool with search capabilities, various reading modes, and document mode support for Bedrock compatibility.\n",
      "\n",
      "7. mem0_memory\n",
      "   Summary: Memory management tool for storing, retrieving, and managing memories in Mem0.\n",
      "\n",
      "8. current_time\n",
      "   Summary: Get the current time in ISO 8601 format.\n",
      "\n",
      "9. journal\n",
      "   Summary: Create and manage daily journal entries with tasks and notes\n",
      "\n"
     ]
    }
   ],
   "source": [
    "# view the tools that the finance agent has access to \n",
    "print_tools_summary(finance_agent.tool_config)"
   ]
  },
  {
   "cell_type": "markdown",
   "metadata": {},
   "source": [
    "Strands Agents SDK provides support for asynchronous iterators through the stream_async method, enabling real-time streaming of agent responses in asynchronous environments like web servers, APIs, and other async applications."
   ]
  },
  {
   "cell_type": "code",
   "execution_count": 25,
   "metadata": {},
   "outputs": [],
   "source": [
    "# Define the async function\n",
    "async def process_streaming_response(agent, query):\n",
    "    agent_stream = agent.stream_async(query)\n",
    "    async for event in agent_stream:\n",
    "        # Print only the text content, not the raw event data\n",
    "        if isinstance(event, dict):\n",
    "            # Check for 'data' field first (seems to contain the text)\n",
    "            if 'data' in event:\n",
    "                print(event['data'], end='', flush=True)\n",
    "            # Fallback to nested event structure\n",
    "            elif 'event' in event and 'contentBlockDelta' in event['event']:\n",
    "                delta = event['event']['contentBlockDelta']['delta']\n",
    "                if 'text' in delta:\n",
    "                    print(delta['text'], end='', flush=True)\n",
    "        else:\n",
    "            # If it's not a dict, just print it as is\n",
    "            print(event, end='', flush=True)\n",
    "    print()  # Add a newline at the end\n"
   ]
  },
  {
   "cell_type": "code",
   "execution_count": 26,
   "metadata": {},
   "outputs": [],
   "source": [
    "import asyncio\n",
    "\n",
    "# Define the query\n",
    "query: str = \"\"\"\n",
    "I want you to perform a comprehensive financial analysis of AAPL. Please:\n",
    "\n",
    "1. Retrieve and analyze the latest income statements, balance sheets, and cash flow statements for AAPL, \n",
    "if your tool encounters an error, then call the function again with the correct parameters.\n",
    "2. Calculate key financial pointers from the data. Based on your output from the latency input statements, balance sheets and cash flow statements, \n",
    "generate code to create charts, pie charts, bar charts, execute mermaid diagrams to show interesting take aways from the financial data that you \n",
    "have in your context.\n",
    "3. Identify trends over the past 3-5 years in revenue growth, profit margins, and cash generation\n",
    "4. Assess Apple's financial health and liquidity position\n",
    "5. Provide investment insights based on the financial data analysis\n",
    "6. Store the key findings in memory for future reference\n",
    "7. Create a journal entry summarizing today's AAPL analysis with actionable insights\n",
    "\n",
    "Please present the analysis in a structured format with clear sections for each financial statement review, ratio analysis, trend identification, and final recommendations.\n",
    "\"\"\""
   ]
  },
  {
   "cell_type": "code",
   "execution_count": null,
   "metadata": {},
   "outputs": [],
   "source": [
    "# simply run the agent to see the output \n",
    "finance_agent(query)"
   ]
  },
  {
   "cell_type": "markdown",
   "metadata": {},
   "source": [
    "## Technical Analyst Agent\n",
    "---\n",
    "\n",
    "In this section, we will be crating the second sub agent that will be responsible for technical analysis to user questions. This inclues the following:\n",
    "\n",
    "1. Questions about getting stock prices, i.e., based on a user question the ticker will go over a given data range and interval and the agent will get the stock prices.\n",
    "\n",
    "2. Questions about seeking information on the current stock price - if the user asks for the current stock price, then the agent will call a tool to get the latest or current stock price for a given ticker.\n",
    "\n",
    "3. Last, we will create a human in the loop for calculating technical indicators for a given time period."
   ]
  },
  {
   "cell_type": "code",
   "execution_count": null,
   "metadata": {},
   "outputs": [],
   "source": [
    "technical_agent_analysis_prompt: str = \"\"\"\n",
    "You are a technical analysis assistant that helps users analyze stock price movements and technical indicators. You can calculate and interpret various technical indicators using historical price data.\n",
    "\n",
    "You have access to the following technical analysis capabilities based on the API key you have access to to call the available functions and get the following information:\n",
    "\n",
    "1. Stock Price Data:\n",
    "   - Current stock prices\n",
    "   - Historical price data with various intervals\n",
    "   - Custom date range analysis\n",
    "\n",
    "2. Technical Indicators:\n",
    "   - RSI\n",
    "   - MACD\n",
    "   - SMA\n",
    "   - EMA\n",
    "   - Bollinger Bands\n",
    "\n",
    "You require the user to provide:\n",
    "1. A stock ticker symbol\n",
    "2. The type of technical indicator they want to analyze\n",
    "3. Optionally: specific time periods or date ranges\n",
    "\n",
    "Available functions:\n",
    "1. get_current_stock_price: Retrieve latest stock price\n",
    "2. get_stock_prices: Get historical price data for a specified period\n",
    "3. get_technical_indicators: Calculate technical indicators for analysis\n",
    "\n",
    "If you do not have access to the data that the user is asking for, do not make up an answer. Be completely accurate and only provide analysis based on the available technical indicators and price data.\n",
    "\n",
    "Only answer questions related to technical analysis and price data based on the provided functions. If unsure, acknowledge limitations\"\"\""
   ]
  },
  {
   "cell_type": "code",
   "execution_count": null,
   "metadata": {},
   "outputs": [],
   "source": [
    "@tool \n",
    "def get_stock_prices(ticker:str, start_date: str, end_date:str, limit:int =5000) -> Union[Dict, str]:\n",
    "    \"\"\" \n",
    "    Get historical stock prices for a ticker within a date range.count\n",
    "    \n",
    "    Args: \n",
    "        ticker (str): Stock ticker symbol (e.g., 'AAPL', 'MSFT', 'GOOGL')\n",
    "        start_date (str): Start date in YYYY-MM-DD format\n",
    "        end_date (str): End date in YYYY-MM-DD format\n",
    "        limit (int): Maximum number of price records to return (default:5000)\n",
    "\n",
    "    Returns:\n",
    "        Union[Dict, str]: JSON reponse containing historical price data or error message        \n",
    "    \"\"\"\n",
    "\n",
    "    api_key = os.environ.get(\"FINANCIAL_DATASET_API\")\n",
    "    logger.info(f\"API Key present: {'yes' if api_key else 'no'}\")\n",
    "    if not api_key:\n",
    "        logger.error(\"Missing FINANCIAL_DATASET_API environment variable\")\n",
    "        return {\"error\": \"Missing \"}"
   ]
  }
 ],
 "metadata": {
  "kernelspec": {
   "display_name": ".venv",
   "language": "python",
   "name": "python3"
  },
  "language_info": {
   "codemirror_mode": {
    "name": "ipython",
    "version": 3
   },
   "file_extension": ".py",
   "mimetype": "text/x-python",
   "name": "python",
   "nbconvert_exporter": "python",
   "pygments_lexer": "ipython3",
   "version": "3.12.3"
  }
 },
 "nbformat": 4,
 "nbformat_minor": 2
}
