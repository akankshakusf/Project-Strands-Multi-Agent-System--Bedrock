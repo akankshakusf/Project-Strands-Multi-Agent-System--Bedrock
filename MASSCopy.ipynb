{
 "cells": [
  {
   "cell_type": "markdown",
   "metadata": {},
   "source": [
    "# Multi-Agent Collaboration (MAC) Project : Hedge Fund Assistant\n",
    "---\n",
    "\n",
    "This example demonstrates a Hedge Fund Assistant using MAC principles with the following structure:\n",
    "\n",
    "- A **Supervisor Agent** powered by the Amazon Nova Lite foundation model routes user queries.\n",
    "\n",
    "- Three **Sub-Agents**:\n",
    "    - **Fundamental Analyst Agent** (uses Claude 3 Haiku as the FM)\n",
    "    - **Technical Analyst Agent** (uses Amazon Nova Lite as the FM)\n",
    "    - **Market Analyst Agent** (uses Claude 3 Haiku as the FM)\n",
    "\n",
    "Each sub-agent has access to a set of tools to fetch data, analyze it, and provide actionable insights."
   ]
  },
  {
   "cell_type": "markdown",
   "metadata": {},
   "source": [
    "#### Set a logger\n",
    "\n",
    "The Strands Agents SDK implements a straightforward logging approach:\n",
    "\n",
    "1. **Module-level Loggers**: Each module in the SDK creates its own logger using logging.getLogger(__name__), following Python best practices for hierarchical logging.\n",
    "\n",
    "2. **Root Logger**: All loggers in the SDK are children of the \"strands\" root logger, making it easy to configure logging for the entire SDK.\n",
    "\n",
    "3. **Default Behavior**: By default, the SDK doesn't configure any handlers or log levels, allowing you to integrate it with your application's logging configuration."
   ]
  },
  {
   "cell_type": "code",
   "execution_count": 1,
   "metadata": {},
   "outputs": [],
   "source": [
    "# import logging and set logging for strands\n",
    "import  logging \n",
    "# import strands agents and strands tools that I will be using \n",
    "from strands import Agent\n",
    "from strands import tool \n",
    "from strands_tools import swarm\n",
    "from typing import Dict, List, Any , Optional, Union\n",
    "\n",
    "# configure root strands logger\n",
    "logging.getLogger(\"strands\").setLevel(logging.DEBUG)\n",
    "\n",
    "# add a handler to see the logs \n",
    "logging.basicConfig(\n",
    "    format=\"%(levelname)s | %(name)s | %(message)s\",\n",
    "    handlers=[logging.StreamHandler()]\n",
    ")"
   ]
  },
  {
   "cell_type": "code",
   "execution_count": 2,
   "metadata": {},
   "outputs": [],
   "source": [
    "# install other requirements \n",
    "import os \n",
    "import sys \n",
    "import json \n",
    "import time \n",
    "import boto3\n",
    "import shutil\n",
    "import zipfile\n",
    "import subprocess\n",
    "import finnhub\n",
    "import uuid\n",
    "from datetime import datetime\n",
    "import requests \n",
    "import tempfile\n",
    "import time\n",
    "from litellm import completion \n",
    "from dotenv import load_dotenv\n",
    "load_dotenv(override = True )\n",
    "\n",
    "# Load the environment variables that are defined in the \".env file\". This contains the\n",
    "# financial data API Key that will enable the user to access the data \n",
    "os.environ[\"LANGFUSE_PUBLIC_KEY\"] = os.getenv(\"LANGFUSE_PUBLIC_KEY\")\n",
    "os.environ[\"LANGFUSE_SECRET_KEY\"] = os.getenv(\"LANGFUSE_SECRET_KEY\")\n",
    "os.environ[\"LANGFUSE_HOST\"] = os.getenv(\"LANGFUSE_HOST\")"
   ]
  },
  {
   "cell_type": "markdown",
   "metadata": {},
   "source": [
    "### Load config file\n",
    "---\n",
    "\n",
    "This [config](config.yaml) file is a `yaml` file that contains information that this solution uses, including the result files, the model information for each of the agent used in this multi agentic system, inference parameters, and more."
   ]
  },
  {
   "cell_type": "code",
   "execution_count": 3,
   "metadata": {},
   "outputs": [
    {
     "name": "stdout",
     "output_type": "stream",
     "text": [
      "\u001b[2mAudited \u001b[1m3 packages\u001b[0m \u001b[2min 516ms\u001b[0m\u001b[0m\n"
     ]
    },
    {
     "name": "stderr",
     "output_type": "stream",
     "text": [
      "INFO | utils | Loading config from local file system: config.yaml\n",
      "INFO | utils | Loaded config from local file system: {'general': {'name': 'Financial-multi-agentic-system', 'description': 'This agentic system shows multi-agent collaboration different financial agents'}, 'model_information': {'finance_agent_model_info': {'model_id': 'us.amazon.nova-micro-v1:0', 'inference_parameters': {'temperature': 0.1}}, 'technical_agent_model_info': {'model_id': 'us.anthropic.claude-3-sonnet-20240229-v1:0', 'inference_parameters': {'temperature': 0.1, 'max_tokens': 512}}, 'market_analysis_agent': {'model_id': 'us.anthropic.claude-3-sonnet-20240229-v1:0', 'inference_parameters': {'temperature': 0.1, 'max_tokens': 512}}, 'code_gen_model_info': {'model_id': 'us.anthropic.claude-3-sonnet-20240229-v1:0', 'inference_parameters': {'temperature': 0.1, 'max_tokens': 2048}}}}\n"
     ]
    }
   ],
   "source": [
    "!uv pip install PyYAML aiohttp openai\n",
    "from utils import load_config\n",
    "\n",
    "# set a logger\n",
    "logging.basicConfig(format='[%(asctime)s] p%(process)s {%(filename)s:%(lineno)d} %(levelname)s - %(message)s', level=logging.INFO)\n",
    "logger = logging.getLogger(__name__)\n",
    "\n",
    "# Load the config file\n",
    "config_data = load_config('config.yaml')\n",
    "logger.info(f\"Loaded config from local file system: {json.dumps(config_data, indent=2)}\")"
   ]
  },
  {
   "cell_type": "markdown",
   "metadata": {},
   "source": [
    "### Define tools\n",
    "---\n",
    "\n",
    "This example creates a supervisor agent and integrates the three sub-agents, each having specific tools for financial data analysis:\n",
    "\n",
    "1. **Fundamental Analyst Agent**:\n",
    "    - Tools: Retrieve income statements, balance sheets, and cash flow statements.\n",
    "\n",
    "2. **Technical Analyst Agent**:\n",
    "    - Tools: Fetch stock prices, current prices, and compute technical indicators (e.g., `RSI`, `MACD`, `SMA`).\n",
    "\n",
    "3. **Market Analyst Agent**:\n",
    "    - Tools: Access options chain data, insider trading information, and market news."
   ]
  },
  {
   "cell_type": "code",
   "execution_count": 4,
   "metadata": {},
   "outputs": [
    {
     "name": "stdout",
     "output_type": "stream",
     "text": [
      "Financial Data API key found in environment variables.\n"
     ]
    }
   ],
   "source": [
    "# pull in financial dataset api key\n",
    "api_key = os.environ.get(\"FINANCIAL_DATASET_API\")\n",
    "if api_key is not None:\n",
    "    print(\"Financial Data API key found in environment variables.\")\n",
    "else:\n",
    "    print(f\"API key not found, enter it in the .env file.\") "
   ]
  },
  {
   "cell_type": "code",
   "execution_count": 5,
   "metadata": {},
   "outputs": [
    {
     "name": "stdout",
     "output_type": "stream",
     "text": [
      "Apple Quote: {'c': 201.257, 'd': 0.257, 'dp': 0.1279, 'h': 203.22, 'l': 200.85, 'o': 201.99, 'pc': 201, 't': 1751046478}\n"
     ]
    }
   ],
   "source": [
    "## dry run \n",
    "client = finnhub.Client(api_key=api_key)\n",
    "quote = client.quote('AAPL')\n",
    "print(\"Apple Quote:\", quote)"
   ]
  },
  {
   "cell_type": "code",
   "execution_count": 6,
   "metadata": {},
   "outputs": [],
   "source": [
    "tool_use_ids=[]\n",
    "\n",
    "# ─── LOGGER SETUP ──────────────────────────────────────────────────────────────\n",
    "logger = logging.getLogger(__name__)\n",
    "logging.basicConfig(level=logging.INFO)\n",
    "\n",
    "def comprehensive_callback_handler(**kwargs):\n",
    "    \"\"\" \n",
    "    Enhanced comprehensive callback handler with LangSmith integration\n",
    "    \"\"\"\n",
    "\n",
    "    # === REASONING EVENTS (Agent's thinking process) ===\n",
    "    if kwargs.get(\"reasoning\", False):\n",
    "        if \"reasoningText\" in kwargs:\n",
    "            reasoning_text = kwargs['reasoningText']\n",
    "            logging.info(f\"🧠 REASONING: {reasoning_text}\")\n",
    "\n",
    "        if \"reasoning_signature\" in kwargs:\n",
    "            logger.info(f\"🔍 REASONING SIGNATURE: {kwargs['reasoning_signature']}\")\n",
    "\n",
    "    # === TEXT GENERATION EVENTS ===\n",
    "    elif \"data\" in kwargs:\n",
    "        # Log streamed text chunks from the model \n",
    "        logging.info(kwargs[\"data\"], end=\"\")\n",
    "        if kwargs.get(\"complete\", False):\n",
    "            logging.info(\"\") # add a new line when complete\n",
    "\n",
    "    # === TOOL EVENTS ===\n",
    "    elif \"current_tool_use\" in kwargs:\n",
    "        tool = kwargs[\"current_tool_use\"]\n",
    "        tool_use_id = tool[\"toolUseId\"]\n",
    "\n",
    "        if tool_use_id not in tool_use_ids:\n",
    "            tool_name = tool.get('name', 'unknown_tool')\n",
    "            tool_input = tool.get('input', {})\n",
    "\n",
    "            logger.info(f\"\\n🔧 USING TOOL: {tool_name}\")\n",
    "            if \"input\" in tool:\n",
    "                logger.info(f\"📥 TOOL INPUT: {tool_input}\")\n",
    "            tool_use_ids.append(tool_use_id)\n",
    "\n",
    "    # === TOOL RESULTS ===\n",
    "    elif \"tool_result\" in kwargs:\n",
    "        tool_result = kwargs[\"tool_result\"]\n",
    "        tool_use_id = tool_result.get(\"toolUseId\")\n",
    "        result_content = tool_result.get(\"content\", [])\n",
    "        \n",
    "        logger.info(f\"📤 TOOL RESULT: {result_content}\")\n",
    "    \n",
    "    # === LIFECYCLE EVENTS ===\n",
    "    elif kwargs.get(\"init_event_loop\", False):\n",
    "        logger.info(\"🔄 Event loop initialized\")\n",
    "        \n",
    "    elif kwargs.get(\"start_event_loop\", False):\n",
    "        logger.info(\"▶️ Event loop cycle starting\")\n",
    "        \n",
    "    elif kwargs.get(\"start\", False):\n",
    "        logger.info(\"📝 New cycle started\")\n",
    "        \n",
    "    elif kwargs.get(\"complete\", False):\n",
    "        logger.info(\"✅ Cycle completed\")\n",
    "        \n",
    "    elif kwargs.get(\"force_stop\", False):\n",
    "        reason = kwargs.get(\"force_stop_reason\", \"unknown reason\")\n",
    "        logger.info(f\"🛑 Event loop force-stopped: {reason}\")\n",
    "    \n",
    "    # === MESSAGE EVENTS ===\n",
    "    elif \"message\" in kwargs:\n",
    "        message = kwargs[\"message\"]\n",
    "        role = message.get(\"role\", \"unknown\")\n",
    "        logger.info(f\"📬 New message created: {role}\")\n",
    "    \n",
    "    # === ERROR EVENTS ===\n",
    "    elif \"error\" in kwargs:\n",
    "        error_info = kwargs[\"error\"]\n",
    "        logger.error(f\"❌ ERROR: {error_info}\")\n",
    "\n",
    "    # === RAW EVENTS (for debugging) ===\n",
    "    elif \"event\" in kwargs:\n",
    "        # Log raw events from the model stream (optional, can be verbose)\n",
    "        logger.debug(f\"🔍 RAW EVENT: {kwargs['event']}\")\n",
    "    \n",
    "    # === DELTA EVENTS ===\n",
    "    elif \"delta\" in kwargs:\n",
    "        # Raw delta content from the model\n",
    "        logger.debug(f\"📊 DELTA: {kwargs['delta']}\")\n",
    "    \n",
    "    # === CATCH-ALL FOR DEBUGGING ===\n",
    "    else:\n",
    "        # Log any other events we might have missed\n",
    "        logger.debug(f\"❓ OTHER EVENT: {kwargs}\")"
   ]
  },
  {
   "cell_type": "code",
   "execution_count": 7,
   "metadata": {},
   "outputs": [],
   "source": [
    "# define the tools for the finance agent\n",
    "# Strands Agents SDK makes it straightforward to \n",
    "# turn Python functions into callable tools within an AI agent.\n",
    "\n",
    "# transform any python function into a tool simply by adding the @tool decorator—its \n",
    "# docstring and type hints automatically generate the tool's specification\n",
    "\n",
    "# ─── TOOLS SETUP ──────────────────────────────────────────────────────────────\n",
    "## TOOL 1\n",
    "@tool\n",
    "def get_income_statements(\n",
    "    ticker: str,\n",
    "    period: str = \"ttm\",\n",
    "    limit: int = 10\n",
    ") -> Dict:\n",
    "    \"\"\" \n",
    "    Get income statements for a ticker. This is one of the functions that is used to get the \n",
    "    income statements based on the ticker specified by the user\n",
    "\n",
    "    Args:\n",
    "        ticker (str): Stock ticker symbol (e.g., 'AAPL', 'MSFT', 'GOOGL')\n",
    "        period (str, optional): Time period for the data. Options:\n",
    "            - 'ttm': Trailing twelve months (default)\n",
    "            - 'annual' : Annual data\n",
    "            - 'quarterly' : Quarterly data \n",
    "        limit (int, optional): Maximum number of statements to return (default:10)\n",
    "    \n",
    "    Return:\n",
    "        Dict: JSON response containing income statements data \n",
    "\n",
    "    Raises:\n",
    "        RuntimeError: If API key is missing or API request fails     \n",
    "    \"\"\"\n",
    "    api_key = os.environ.get(\"FINANCIAL_DATASET_API\")\n",
    "    if not api_key:\n",
    "        return {\"error\": \"Missing FINANCIAL_DATASET_API environment variables\"}\n",
    "    \n",
    "    url = (\n",
    "        f'https://api.financialdatasets.ai/financials/income-statements'\n",
    "        f'?ticker={ticker}'\n",
    "        f'&period={period}'\n",
    "        f'&limit={limit}'\n",
    "    )\n",
    "\n",
    "    try: \n",
    "        response = requests.get(url, header={'X-API-Key': api_key})\n",
    "        # fetch and return the output of the api call in the response\n",
    "        print(f\" OUTPUT FROM THE GET_INCOME_STATEMENTS TOOL: {response.json()}\")\n",
    "        return response.json()\n",
    "    except Exception as e:\n",
    "        return {\"ticker\": ticker, \"income_statements\": [], \"error\": str(e)}\n",
    "    \n",
    "## TOOL 2\n",
    "@tool \n",
    "def get_balance_sheets(\n",
    "    ticker: str,\n",
    "    period: str =\"ttm\",\n",
    "    limit: int = 10\n",
    ") -> Dict:\n",
    "    \"\"\" \n",
    "    Get the balance sheets for a ticker and the specified limit and time period \n",
    "\n",
    "    Args:\n",
    "        ticker (str): Stock ticker symbol (e.g., 'AAPL', 'MSFT', 'GOOGL')\n",
    "        period (str, optional): Time period for the data. Options:\n",
    "            - 'ttm': Trailing twelve months (default)\n",
    "            - 'annual': Annual data \n",
    "            - 'quarterly' : Quarterly data \n",
    "        limit (int, optional): Maximum number of balance  sheets to return (default:10)\n",
    "    \n",
    "    Returns:\n",
    "        Dict: JSON response containing balance sheet data \n",
    "\n",
    "    Raises: \n",
    "        RuntimeError: If API key is missing or API request fails         \n",
    "    \"\"\"\n",
    "    api_key = os.environ.get(\"FINANCIAL_DATASET_API\")\n",
    "    if not api_key:\n",
    "        return {\"error\": \"Missing FINANCIAL_DATASET_API environment variable\"}\n",
    "\n",
    "    url = (\n",
    "        f'https://api.financialdatasets.ai/financials/balance-sheets'\n",
    "        f'?ticker={ticker}'\n",
    "        f'&period={period}'\n",
    "        f'&limit={limit}'\n",
    "    )\n",
    "\n",
    "    try:\n",
    "        response = requests.get(url, headers={'X-API-Key': api_key})\n",
    "        # fetch and return the output of the api call in the response\n",
    "        print(f\"OUTPUT FROM THE GET_BALANCE_SHEETS TOOL: {response.json()}\")\n",
    "        return response.json()\n",
    "    except Exception as e:\n",
    "        return {\"ticker\": ticker, \"balance_sheets\": [], \"error\": str(e)}\n",
    "\n",
    "## TOOL 3\n",
    "@tool\n",
    "def get_cash_flow_statements(\n",
    "    ticker:str,\n",
    "    period: str = 'ttm',\n",
    "    limit: int = 10\n",
    ") -> Dict:\n",
    "    \"\"\"\n",
    "    Get cash flow statements for a ticker\n",
    "    \n",
    "    Args:\n",
    "        ticker (str): Stock ticker symbol (e.g., 'AAPL', 'MSFT', 'GOOGL')\n",
    "        period (str, optional): Time period for the data. Options:\n",
    "            - 'ttm': Trailing twelve months (default)\n",
    "            - 'annual': Annual data\n",
    "            - 'quarterly': Quarterly data\n",
    "        limit (int, optional): Maximum number of cash flow statements to return (default: 10)\n",
    "        \n",
    "    Returns:\n",
    "        Dict: JSON response containing cash flow data\n",
    "        \n",
    "    Raises:\n",
    "        RuntimeError: If API key is missing or API request fails\n",
    "    \"\"\"\n",
    "    api_key = os.environ.get(\"FINANCIAL_DATASET_API\")\n",
    "    if not api_key:\n",
    "        return {\"error\": \"Missing FINANCIAL_DATASET_API environment variable\"}\n",
    "\n",
    "    url = (\n",
    "        f'https://api.financialdatasets.ai/financials/cash-flow-statements'\n",
    "        f'?ticker={ticker}'\n",
    "        f'&period={period}'\n",
    "        f'&limit={limit}'\n",
    "    )\n",
    "\n",
    "    try:\n",
    "        response = requests.get(url, headers={'X-API-Key': api_key})\n",
    "        # fetch and return the output of the api call in the response\n",
    "        print(f\"OUTPUT FROM THE GET_CASH_FLOW_STATEMENTS TOOL: {response.json()}\")\n",
    "        return response.json()\n",
    "    except Exception as e:\n",
    "        return {\"ticker\": ticker, \"cash_flow_statements\": [], \"error\": str(e)}"
   ]
  },
  {
   "cell_type": "markdown",
   "metadata": {},
   "source": [
    "#### Create a custom python code execution tool\n",
    "---\n",
    "\n",
    "In this section, we will create a custom tool that lets you configure or use a model of choice to generate code based on the content and the user question and then execute that tool as well."
   ]
  },
  {
   "cell_type": "code",
   "execution_count": 8,
   "metadata": {},
   "outputs": [],
   "source": [
    "# Represent the code execution prompt for the llm \n",
    "CODE_EXEC_PROMPT : str = \"\"\"You are a python code generator. Generate clean, efficient and safe Python code based on the user's requirements.\n",
    "\n",
    "Guidelines:\n",
    "1. Only generate executable Python code\n",
    "2. Include necessary imports at the top\n",
    "3. Add comments to explain complex logic\n",
    "4. Handle potential errors gracefully\n",
    "5. Keep code concise but readable\n",
    "6. Do not include  any harmful or system-modifying operations\n",
    "7. Focus on data processing, calculations and analysis tasks\n",
    "8. If working with data, assume it might be passed as context\n",
    "9. Print results using print() statements so they appear in output \n",
    "\n",
    "Always adhere to the user question and generate python code based on what the user is asking.\n",
    "\n",
    "Return ONLY the python code, no explainations or markdown formatting.\n",
    "\"\"\""
   ]
  },
  {
   "cell_type": "code",
   "execution_count": 9,
   "metadata": {},
   "outputs": [
    {
     "name": "stdout",
     "output_type": "stream",
     "text": [
      "\u001b[2mAudited \u001b[1m3 packages\u001b[0m \u001b[2min 439ms\u001b[0m\u001b[0m\n"
     ]
    }
   ],
   "source": [
    "! uv pip install tiktoken tokenizer jinja2"
   ]
  },
  {
   "cell_type": "code",
   "execution_count": 10,
   "metadata": {},
   "outputs": [
    {
     "name": "stdout",
     "output_type": "stream",
     "text": [
      "Name: litellm\n",
      "Version: 1.72.7\n",
      "Location: /mnt/c/code/Projects/Agentic_AI_AutoGen/AWSBedrock-Project-strands-multi-agentic-system/.venv/lib/python3.12/site-packages\n",
      "Requires: aiohttp, click, httpx, importlib-metadata, jinja2, jsonschema, openai, pydantic, python-dotenv, tiktoken, tokenizers\n",
      "Required-by: financial-analysis-multi-agent-collaboration\n"
     ]
    }
   ],
   "source": [
    "! uv pip show litellm"
   ]
  },
  {
   "cell_type": "markdown",
   "metadata": {},
   "source": [
    "### Define the system prompt for the Agent 1: Financial agent\n",
    "---"
   ]
  },
  {
   "cell_type": "code",
   "execution_count": 11,
   "metadata": {},
   "outputs": [],
   "source": [
    "# set a logger\n",
    "logging.basicConfig(format='[%(asctime)s] p%(process)s {%(filename)s:%(lineno)d} %(levelname)s - %(message)s', level=logging.INFO)\n",
    "logger =  logging.getLogger(__name__)"
   ]
  },
  {
   "cell_type": "code",
   "execution_count": 12,
   "metadata": {},
   "outputs": [
    {
     "name": "stdout",
     "output_type": "stream",
     "text": [
      "Going to use the financial agent system prompt: \n",
      "You are a comprehensive fundamental analyst assistant that helps users analyze company financial statements across three key areas: income statements, balance sheets, and cash flow statements.\n",
      "You require the user to provide a stock ticker symbol to analyze the company's financials.\n",
      "\n",
      "You can perform the following types of analysis by calling the functions below:\n",
      "\n",
      "1. Income Statement Analysis:\n",
      "   - Revenue growth, gross profit, operating income, net income, earnings per share, and revenue/expense breakdown\n",
      "\n",
      "2. Balance Sheet Analysis:\n",
      "   - Asset composition (current and non-current), liabilities (current and non-current), shareholders' equity, retained earnings, and financial ratios (current ratio, debt-to-equity)\n",
      "\n",
      "3. Cash Flow Statement Analysis:\n",
      "   - Net cash flow from operations, capital expenditures, business acquisitions, issuance/repayment of debt, dividends, and changes in cash and equivalents\n",
      "\n",
      "IMPORTANT: Always use the financial dataset API you have access to call these functions and retrieve the data to answer the user question\n",
      "\n",
      "If you do not have access to the data that the user is asking for, do not make up an answer, just say that you do not know the answer. Be completely\n",
      "accurate. Do not provide answers to anything but on the topic specified above. Always give information on where you got the data to answer the user question\n",
      "and do not redact anything in your response.\n",
      "\n",
      "Also, use the python repl tool function at the very end to generate report and analysis based on the context fetched so far and store\n",
      "that in a file or provide that as an output.\n",
      "\n"
     ]
    }
   ],
   "source": [
    "# This is the system prompt that will be used for the financial agent\n",
    "financial_agent_instruction = \"\"\"You are a comprehensive fundamental analyst assistant that helps users analyze company financial statements across three key areas: income statements, balance sheets, and cash flow statements.\n",
    "You require the user to provide a stock ticker symbol to analyze the company's financials.\n",
    "\n",
    "You can perform the following types of analysis by calling the functions below:\n",
    "\n",
    "1. Income Statement Analysis:\n",
    "   - Revenue growth, gross profit, operating income, net income, earnings per share, and revenue/expense breakdown\n",
    "\n",
    "2. Balance Sheet Analysis:\n",
    "   - Asset composition (current and non-current), liabilities (current and non-current), shareholders' equity, retained earnings, and financial ratios (current ratio, debt-to-equity)\n",
    "\n",
    "3. Cash Flow Statement Analysis:\n",
    "   - Net cash flow from operations, capital expenditures, business acquisitions, issuance/repayment of debt, dividends, and changes in cash and equivalents\n",
    "\n",
    "IMPORTANT: Always use the financial dataset API you have access to call these functions and retrieve the data to answer the user question\n",
    "\n",
    "If you do not have access to the data that the user is asking for, do not make up an answer, just say that you do not know the answer. Be completely\n",
    "accurate. Do not provide answers to anything but on the topic specified above. Always give information on where you got the data to answer the user question\n",
    "and do not redact anything in your response.\n",
    "\n",
    "Also, use the python repl tool function at the very end to generate report and analysis based on the context fetched so far and store\n",
    "that in a file or provide that as an output.\n",
    "\"\"\"\n",
    "print(f\"Going to use the financial agent system prompt: \\n{financial_agent_instruction}\")"
   ]
  },
  {
   "cell_type": "code",
   "execution_count": 13,
   "metadata": {},
   "outputs": [
    {
     "name": "stdout",
     "output_type": "stream",
     "text": [
      "Fetched the agent model information: {'model_id': 'us.amazon.nova-micro-v1:0', 'inference_parameters': {'temperature': 0.1}}\n"
     ]
    }
   ],
   "source": [
    "# get the model information for the finance agent\n",
    "finance_agent_model_info: Dict = config_data['model_information'].get('finance_agent_model_info')\n",
    "print(f\"Fetched the agent model information: {finance_agent_model_info}\")"
   ]
  },
  {
   "cell_type": "code",
   "execution_count": 14,
   "metadata": {},
   "outputs": [
    {
     "name": "stdout",
     "output_type": "stream",
     "text": [
      "Finance Agent model config: {'model_id': 'us.amazon.nova-micro-v1:0', 'inference_parameters': {'temperature': 0.1}}\n",
      "Technical Agent model config: {'model_id': 'us.anthropic.claude-3-sonnet-20240229-v1:0', 'inference_parameters': {'temperature': 0.1, 'max_tokens': 512}}\n",
      "Market Analysis Agent model config: {'model_id': 'us.anthropic.claude-3-sonnet-20240229-v1:0', 'inference_parameters': {'temperature': 0.1, 'max_tokens': 512}}\n",
      "Code Gen model config: {'model_id': 'us.anthropic.claude-3-sonnet-20240229-v1:0', 'inference_parameters': {'temperature': 0.1, 'max_tokens': 2048}}\n"
     ]
    }
   ],
   "source": [
    "## DRY RUN TESTING OF ALL INITIALIZED MODELS\n",
    "\n",
    "# For finance agent\n",
    "finance_agent_model_info: Dict = config_data['model_information'].get('finance_agent_model_info')\n",
    "print(\"Finance Agent model config:\", finance_agent_model_info)\n",
    "\n",
    "# For technical agent\n",
    "technical_agent_model_info: Dict = config_data['model_information'].get('technical_agent_model_info')\n",
    "print(\"Technical Agent model config:\", technical_agent_model_info)\n",
    "\n",
    "# For market analysis agent\n",
    "market_analysis_agent: Dict = config_data['model_information'].get('market_analysis_agent')\n",
    "print(\"Market Analysis Agent model config:\", market_analysis_agent)\n",
    "\n",
    "# For code gen model\n",
    "code_gen_model_info: Dict = config_data['model_information'].get('code_gen_model_info')\n",
    "print(\"Code Gen model config:\", code_gen_model_info)"
   ]
  },
  {
   "cell_type": "code",
   "execution_count": 15,
   "metadata": {},
   "outputs": [
    {
     "name": "stderr",
     "output_type": "stream",
     "text": [
      "DEBUG | strands.models.bedrock | config=<{'model_id': 'us.amazon.nova-micro-v1:0', 'temperature': 0.1, 'client_config': <botocore.config.Config object at 0x7ff102a72990>}> | initializing\n"
     ]
    },
    {
     "name": "stdout",
     "output_type": "stream",
     "text": [
      "Going to use the agent in the region: us-east-1\n",
      "Initialized the bedrock model for the finance agent: <strands.models.bedrock.BedrockModel object at 0x7ff102acadb0>\n"
     ]
    }
   ],
   "source": [
    "# initialize the model that will power the financial agent\n",
    "# in this case, we will use the claude 3-7 model to power the financial agent\n",
    "from strands.models import BedrockModel\n",
    "from botocore.config import Config\n",
    "\n",
    "# define the current aws region\n",
    "region : str = boto3.Session().region_name\n",
    "print(f\"Going to use the agent in the region: {region}\")\n",
    "\n",
    "# Set custom timeouts/retries\n",
    "bedrock_config = Config(\n",
    "    connect_timeout=20,\n",
    "    read_timeout=120,\n",
    "    retries={'max_attempts': 5, 'mode': 'adaptive'}\n",
    ")\n",
    "\n",
    "# create a bedrock model using the bedrockmodel interface\n",
    "# bedrock_model = BedrockModel(\n",
    "#     model_id = finance_agent_model_info.get('model_id'),\n",
    "#     region_name = region,\n",
    "#     temperature = finance_agent_model_info['inference_parameters'].get('temperature')\n",
    "# )\n",
    "\n",
    "# Initialize BedrockModel using info from config\n",
    "bedrock_model = BedrockModel(\n",
    "    model_id = finance_agent_model_info.get('model_id'),\n",
    "    region_name=region,\n",
    "    temperature=finance_agent_model_info['inference_parameters'].get('temperature'),\n",
    "    client_config=bedrock_config\n",
    ")\n",
    "print(f\"Initialized the bedrock model for the finance agent: {bedrock_model}\")\n"
   ]
  },
  {
   "cell_type": "code",
   "execution_count": null,
   "metadata": {},
   "outputs": [],
   "source": [
    "## Anthropic model testing dry run \n",
    "\n",
    "# import boto3\n",
    "# import json\n",
    "\n",
    "# region = \"us-east-1\"\n",
    "# model_id = \"anthropic.claude-3-sonnet-20240229-v1:0\"\n",
    "\n",
    "# client = boto3.client(\"bedrock-runtime\", region_name=region)\n",
    "\n",
    "# input_body = {\n",
    "#     \"anthropic_version\": \"bedrock-2023-05-31\",   # <--- ADD THIS LINE!\n",
    "#     \"messages\": [\n",
    "#         {\"role\": \"user\", \"content\": \"What is the capital of France?\"}\n",
    "#     ],\n",
    "#     \"max_tokens\": 64\n",
    "# }\n",
    "\n",
    "# try:\n",
    "#     response = client.invoke_model(\n",
    "#         modelId=model_id,\n",
    "#         body=json.dumps(input_body),\n",
    "#         contentType=\"application/json\",\n",
    "#         accept=\"application/json\"\n",
    "#     )\n",
    "#     print(response['body'].read().decode())\n",
    "# except Exception as e:\n",
    "#     print(\"Timeout/Error:\", e)\n"
   ]
  },
  {
   "cell_type": "markdown",
   "metadata": {},
   "source": [
    "### Create the financial agent\n",
    "---\n",
    "\n",
    "Next, we will simply create the finance agent. We will use a Callback handler function in this case. We will implement the custom callback function. This will be invoked at various points throughout the financial agent's lifecycle. \n",
    "\n",
    "Here is an example that captures streamed data from the agent and logs instead of printing:\n",
    "\n",
    "### What are Callback handlers in Strands SDK?\n",
    "\n",
    "Callback handlers are a powerful feature for Strands SDK that enables the user to intercept and process the events as they are occurring during the agent execution process. This means that the agent will be able to handle real time monitoring, custom output formatting and integration with other external systems.\n",
    "\n",
    "This handling is done and can occur throughout the agent's lifecycle and includes:\n",
    "\n",
    "1. The text generation process that is done with the model that underlies the agent. If the agent is generating text then the callback handler will catch that and emit it out during the agent execution process.\n",
    "\n",
    "2. If the agent is using tools or has tools associated with it, then the agent will be using that and executing that. As a part of that process, the callback handler can catch those traces and emit it out for real time processing.\n",
    "\n",
    "3. Reasoning process: If you want to handle the traces or track the reasoning process of the agent based on the LLM thinking to debug and optimize performance, that is possible through callback handlers as well.\n",
    "\n",
    "4. Errors and completions: If there are any errors or completions during the process we can handle that using the callback handler functionality as well.\n",
    "\n",
    "For more information on what you can log with Callback handler events, view the documentation [here](https://strandsagents.com/0.1.x/user-guide/concepts/streaming/callback-handlers/)."
   ]
  },
  {
   "cell_type": "code",
   "execution_count": 16,
   "metadata": {},
   "outputs": [],
   "source": [
    "# we will now set up logging for the agent using langfuse\n",
    "import base64  # For encoding/decoding data coming from api\n",
    "otel_host = os.environ.get('LANGFUSE_HOST')\n",
    "if otel_host:\n",
    "    # Set up endpoint for OpenTelemetry\n",
    "    otel_endpoint = str(os.environ.get(\"LANGFUSE_HOST\")) + \"/api/public/otel/v1/traces\"\n",
    "\n",
    "    # Create authentication token for OpenTelemetry\n",
    "    auth_token = base64.b64encode(f\"{os.environ.get('LANGFUSE_PUBLIC_KEY')}:{os.environ.get('LANGFUSE_SECRET_KEY')}\".encode()).decode()\n",
    "    os.environ[\"OTEL_EXPORTER_OTLP_ENDPOINT\"] = otel_endpoint\n",
    "    os.environ[\"OTEL_EXPORTER_OTLP_HEADERS\"] = f\"Authorization=Basic {auth_token}\""
   ]
  },
  {
   "cell_type": "code",
   "execution_count": null,
   "metadata": {},
   "outputs": [
    {
     "name": "stderr",
     "output_type": "stream",
     "text": [
      "DEBUG | strands.tools.registry | tool_name=<get_income_statements> | registering function tool\n",
      "DEBUG | strands.tools.registry | tool_name=<get_income_statements>, tool_type=<function>, is_dynamic=<False> | registering tool\n",
      "DEBUG | strands.tools.registry | tool_name=<get_balance_sheets> | registering function tool\n",
      "DEBUG | strands.tools.registry | tool_name=<get_balance_sheets>, tool_type=<function>, is_dynamic=<False> | registering tool\n",
      "DEBUG | strands.tools.registry | tool_name=<get_cash_flow_statements> | registering function tool\n",
      "DEBUG | strands.tools.registry | tool_name=<get_cash_flow_statements>, tool_type=<function>, is_dynamic=<False> | registering tool\n",
      "DEBUG | strands.tools.registry | tool_name=<calculator>, tool_type=<function>, is_dynamic=<False> | registering tool\n",
      "DEBUG | strands.tools.loader | tool_path=</mnt/c/code/Projects/Agentic_AI_AutoGen/AWSBedrock-Project-strands-multi-agentic-system/.venv/lib/python3.12/site-packages/strands_tools/python_repl.py> | loading python tool from path\n",
      "DEBUG | strands.tools.registry | tool_name=<python_repl>, tool_type=<python>, is_dynamic=<True> | registering tool\n",
      "DEBUG | strands.tools.registry | tool_name=<python_repl>, tool_type=<python> | skipping hot reloading\n",
      "DEBUG | strands.tools.loader | tool_path=</mnt/c/code/Projects/Agentic_AI_AutoGen/AWSBedrock-Project-strands-multi-agentic-system/.venv/lib/python3.12/site-packages/strands_tools/file_read.py> | loading python tool from path\n",
      "DEBUG | strands.tools.registry | tool_name=<file_read>, tool_type=<python>, is_dynamic=<True> | registering tool\n",
      "DEBUG | strands.tools.registry | tool_name=<file_read>, tool_type=<python> | skipping hot reloading\n",
      "DEBUG | strands.tools.loader | tool_path=</mnt/c/code/Projects/Agentic_AI_AutoGen/AWSBedrock-Project-strands-multi-agentic-system/.venv/lib/python3.12/site-packages/strands_tools/mem0_memory.py> | loading python tool from path\n",
      "DEBUG | strands.tools.registry | tool_name=<mem0_memory>, tool_type=<python>, is_dynamic=<True> | registering tool\n",
      "DEBUG | strands.tools.registry | tool_name=<mem0_memory>, tool_type=<python> | skipping hot reloading\n",
      "DEBUG | strands.tools.registry | tool_name=<current_time>, tool_type=<function>, is_dynamic=<False> | registering tool\n",
      "DEBUG | strands.tools.loader | tool_path=</mnt/c/code/Projects/Agentic_AI_AutoGen/AWSBedrock-Project-strands-multi-agentic-system/.venv/lib/python3.12/site-packages/strands_tools/journal.py> | loading python tool from path\n",
      "DEBUG | strands.tools.registry | tool_name=<journal>, tool_type=<python>, is_dynamic=<True> | registering tool\n",
      "DEBUG | strands.tools.registry | tool_name=<journal>, tool_type=<python> | skipping hot reloading\n",
      "DEBUG | strands.tools.registry | tools_dir=</mnt/c/code/Projects/Agentic_AI_AutoGen/AWSBedrock-Project-strands-multi-agentic-system/tools> | tools directory not found\n",
      "DEBUG | strands.tools.registry | tool_modules=<[]> | discovered\n",
      "DEBUG | strands.tools.registry | tool_count=<0>, success_count=<0> | finished loading tools\n",
      "DEBUG | strands.tools.registry | tools_dir=</mnt/c/code/Projects/Agentic_AI_AutoGen/AWSBedrock-Project-strands-multi-agentic-system/tools> | tools directory not found\n",
      "DEBUG | strands.tools.watcher | tool directory watching initialized\n",
      "INFO | strands.telemetry.tracer | initializing tracer\n",
      "INFO | strands.telemetry.tracer | endpoint=<https://us.cloud.langfuse.com/api/public/otel/v1/traces> | OTLP exporter configured with endpoint\n"
     ]
    }
   ],
   "source": [
    "# import the prebuilt tools.\n",
    "# Calculator: Perform mathematical operations\n",
    "# file_read: Read and parse files\n",
    "# mem0_memory: Tool for managing memories using Mem0 (store, delete, list, get, and retrieve)\n",
    "# python_repl: Run Python code\n",
    "# current_time: Get the current date and time\n",
    "# journal: Create structured tasks and logs for agents to manage and work from\n",
    "\n",
    "# ─── ASSEMBLE ALL Tools for Agent Use ──────────────────────────────────────────────────────────────\n",
    "import builtins\n",
    "builtins.input = lambda *args, **kwargs: 'y'\n",
    "from strands_tools import calculator, file_read, mem0_memory, current_time, journal, python_repl\n",
    "from functools import partial\n",
    "\n",
    "# Generate a unique session ID using UUID\n",
    "session_id = str(uuid.uuid4())\n",
    "my_mem0_memory = partial(mem0_memory, user_id=\"agent-builder@strandsagents.com\")\n",
    "\n",
    "# Create the financial agent\n",
    "finance_agent = Agent(\n",
    "    # this is the system prompt to the strands agent\n",
    "    system_prompt=financial_agent_instruction, \n",
    "    # use the tools from the ones defined above for the \n",
    "    # finance agent\n",
    "    tools = [\n",
    "             # These are the custom built tools that the finance \n",
    "             # agent will use\n",
    "             get_income_statements, \n",
    "             get_balance_sheets,\n",
    "             get_cash_flow_statements, \n",
    "             # These are the prebuilt set of tools that the \n",
    "             # strands sdk agent already offers\n",
    "             calculator, \n",
    "             python_repl, \n",
    "             file_read, \n",
    "             my_mem0_memory, \n",
    "             current_time, \n",
    "             journal],\n",
    "    model=bedrock_model,   # <-- THIS IS WHAT MATTERS!\n",
    "    # define the callback handler in this case\n",
    "    # This callback handler logs the reasoning, tool, lifecycle, \n",
    "    # raw, delta and message events.\n",
    "    callback_handler=comprehensive_callback_handler, \n",
    "    trace_attributes={\n",
    "            \"session.id\": session_id,  # Use UUID for unique session tracking\n",
    "            \"user.id\": \"agent-builder@strandsagents.com\",\n",
    "            \"langfuse.tags\": [\n",
    "                \"Strands-Agents-Builder\",\n",
    "            ],\n",
    "        }\n",
    ")"
   ]
  },
  {
   "cell_type": "code",
   "execution_count": 18,
   "metadata": {},
   "outputs": [
    {
     "name": "stdout",
     "output_type": "stream",
     "text": [
      "Finance Agent model_id: us.amazon.nova-micro-v1:0\n",
      "{'config': {'model_id': 'us.amazon.nova-micro-v1:0', 'temperature': 0.1, 'client_config': <botocore.config.Config object at 0x7f50d3beec90>}, 'client': <botocore.client.BedrockRuntime object at 0x7f50d33b24b0>}\n"
     ]
    }
   ],
   "source": [
    "# view some tools and the model through the agent config \n",
    "print(\"Finance Agent model_id:\", finance_agent_model_info['model_id'])\n",
    "# Model config after agent/model creation:\n",
    "print(finance_agent.model.__dict__)"
   ]
  },
  {
   "cell_type": "code",
   "execution_count": 18,
   "metadata": {},
   "outputs": [],
   "source": [
    "# view the details of the tools in a more human readable manner\n",
    "def print_tools_summary(config):\n",
    "    \"\"\"Print a summary of all tools\"\"\"\n",
    "    tools = config.get('tools', [])\n",
    "    \n",
    "    print(\"=\" * 60)\n",
    "    print(f\"AGENT TOOLS SUMMARY\")\n",
    "    print(\"=\" * 60)\n",
    "    print(f\"Total number of tools: {len(tools)}\")\n",
    "    print()\n",
    "    \n",
    "    for i, tool in enumerate(tools, 1):\n",
    "        tool_spec = tool.get('toolSpec', {})\n",
    "        name = tool_spec.get('name', 'Unknown')\n",
    "        description = tool_spec.get('description', 'No description available')\n",
    "        \n",
    "        # Extract the first line of description for summary\n",
    "        first_line = description.split('\\n')[0] if description else 'No description'\n",
    "        \n",
    "        print(f\"{i}. {name}\")\n",
    "        print(f\"   Summary: {first_line}\")\n",
    "        print()"
   ]
  },
  {
   "cell_type": "code",
   "execution_count": 19,
   "metadata": {},
   "outputs": [
    {
     "name": "stderr",
     "output_type": "stream",
     "text": [
      "DEBUG | strands.tools.registry | getting tool configurations\n",
      "DEBUG | strands.tools.registry | tool_name=<get_income_statements> | loaded tool config\n",
      "DEBUG | strands.tools.registry | tool_name=<get_balance_sheets> | loaded tool config\n",
      "DEBUG | strands.tools.registry | tool_name=<get_cash_flow_statements> | loaded tool config\n",
      "DEBUG | strands.tools.registry | tool_name=<calculator> | loaded tool config\n",
      "DEBUG | strands.tools.registry | tool_name=<python_repl> | loaded tool config\n",
      "DEBUG | strands.tools.registry | tool_name=<file_read> | loaded tool config\n",
      "DEBUG | strands.tools.registry | tool_name=<mem0_memory> | loaded tool config\n",
      "DEBUG | strands.tools.registry | tool_name=<current_time> | loaded tool config\n",
      "DEBUG | strands.tools.registry | tool_name=<journal> | loaded tool config\n",
      "DEBUG | strands.tools.registry | tool_count=<9> | tools configured\n"
     ]
    },
    {
     "name": "stdout",
     "output_type": "stream",
     "text": [
      "============================================================\n",
      "AGENT TOOLS SUMMARY\n",
      "============================================================\n",
      "Total number of tools: 9\n",
      "\n",
      "1. get_income_statements\n",
      "   Summary: Get income statements for a ticker. This is one of the functions that is used to get the \n",
      "\n",
      "2. get_balance_sheets\n",
      "   Summary: Get the balance sheets for a ticker and the specified limit and time period \n",
      "\n",
      "3. get_cash_flow_statements\n",
      "   Summary: Get cash flow statements for a ticker\n",
      "\n",
      "4. calculator\n",
      "   Summary: Calculator powered by SymPy for comprehensive mathematical operations.\n",
      "\n",
      "5. python_repl\n",
      "   Summary: Execute Python code in a REPL environment with interactive PTY support and state persistence.\n",
      "\n",
      "6. file_read\n",
      "   Summary: File reading tool with search capabilities, various reading modes, and document mode support for Bedrock compatibility.\n",
      "\n",
      "7. mem0_memory\n",
      "   Summary: Memory management tool for storing, retrieving, and managing memories in Mem0.\n",
      "\n",
      "8. current_time\n",
      "   Summary: Get the current time in ISO 8601 format.\n",
      "\n",
      "9. journal\n",
      "   Summary: Create and manage daily journal entries with tasks and notes\n",
      "\n"
     ]
    }
   ],
   "source": [
    "# view the tools that the finance agent has access to \n",
    "print_tools_summary(finance_agent.tool_config)"
   ]
  },
  {
   "cell_type": "code",
   "execution_count": 20,
   "metadata": {},
   "outputs": [],
   "source": [
    "import asyncio\n",
    "# Add this immediately after your imports:\n",
    "import nest_asyncio\n",
    "nest_asyncio.apply()"
   ]
  },
  {
   "cell_type": "code",
   "execution_count": 21,
   "metadata": {},
   "outputs": [],
   "source": [
    "# define the async function\n",
    "async def process_streaming_response(agent,query):\n",
    "    agent_stream = agent.stream_async(query)\n",
    "    async for event in agent_stream:\n",
    "        # Print only the text content, not the raw event data \n",
    "        if isinstance(event , dict):\n",
    "            # Check for 'data' field first (seems to contain the text)\n",
    "            if 'data' in event:\n",
    "                print(event['data'], end = '', flush=True)\n",
    "            # Fallback to nested events structure\n",
    "            elif 'event' in event and 'contentBlockDelta' in event['event']:\n",
    "                delta = event['event']['contentBlockDelta']['delta']\n",
    "                if 'text' in delta:\n",
    "                    print(delta['text'], end= '', flush = True)\n",
    "        else:\n",
    "            # If it's not a dict, just print it as is \n",
    "            print(event, end='', flush = True)\n",
    "    print()"
   ]
  },
  {
   "cell_type": "code",
   "execution_count": 22,
   "metadata": {},
   "outputs": [],
   "source": [
    "\n",
    "# Define the query to pass to the Agent to solve\n",
    "query: str = \"\"\"\n",
    "I want you to perform a comprehensive financial analysis of AAPL. Please:\n",
    "\n",
    "1. Retrieve and analyze the latest income statements, balance sheets, and cash flow statements for AAPL, \n",
    "if your tool encounters an error, then call the function again with the correct parameters.\n",
    "2. Calculate key financial pointers from the data. Based on your output from the latency input statements,\n",
    "balance sheets and cash flow statements, generate code to create charts, pie charts, bar charts,\n",
    "execute mermaid diagrams to show interesting take aways from the financial data that you \n",
    "have in your context.\n",
    "3. Identify trends over the past 3-5 years in revenue growth, profit margins, and cash generation\n",
    "4. Assess Apple's financial health and liquidity position\n",
    "5. Provide investment insights based on the financial data analysis\n",
    "6. Store the key findings in memory for future reference\n",
    "7. Create a journal entry summarizing today's AAPL analysis with actionable insights\n",
    "\n",
    "Please present the analysis in a structured format with clear sections for each financial statement review,\n",
    "ratio analysis, trend identification, and final recommendations.\n",
    "\"\"\""
   ]
  },
  {
   "cell_type": "code",
   "execution_count": 24,
   "metadata": {},
   "outputs": [],
   "source": [
    "# ! pip install faiss-cpu"
   ]
  },
  {
   "cell_type": "code",
   "execution_count": 23,
   "metadata": {},
   "outputs": [
    {
     "name": "stderr",
     "output_type": "stream",
     "text": [
      "DEBUG | strands.tools.registry | getting tool configurations\n",
      "DEBUG | strands.tools.registry | tool_name=<get_income_statements> | loaded tool config\n",
      "DEBUG | strands.tools.registry | tool_name=<get_balance_sheets> | loaded tool config\n",
      "DEBUG | strands.tools.registry | tool_name=<get_cash_flow_statements> | loaded tool config\n",
      "DEBUG | strands.tools.registry | tool_name=<calculator> | loaded tool config\n",
      "DEBUG | strands.tools.registry | tool_name=<python_repl> | loaded tool config\n",
      "DEBUG | strands.tools.registry | tool_name=<file_read> | loaded tool config\n",
      "DEBUG | strands.tools.registry | tool_name=<mem0_memory> | loaded tool config\n",
      "DEBUG | strands.tools.registry | tool_name=<current_time> | loaded tool config\n",
      "DEBUG | strands.tools.registry | tool_name=<journal> | loaded tool config\n",
      "DEBUG | strands.tools.registry | tool_count=<9> | tools configured\n",
      "DEBUG | strands.tools.registry | getting tool configurations\n",
      "DEBUG | strands.tools.registry | tool_name=<get_income_statements> | loaded tool config\n",
      "DEBUG | strands.tools.registry | tool_name=<get_balance_sheets> | loaded tool config\n",
      "DEBUG | strands.tools.registry | tool_name=<get_cash_flow_statements> | loaded tool config\n",
      "DEBUG | strands.tools.registry | tool_name=<calculator> | loaded tool config\n",
      "DEBUG | strands.tools.registry | tool_name=<python_repl> | loaded tool config\n",
      "DEBUG | strands.tools.registry | tool_name=<file_read> | loaded tool config\n",
      "DEBUG | strands.tools.registry | tool_name=<mem0_memory> | loaded tool config\n",
      "DEBUG | strands.tools.registry | tool_name=<current_time> | loaded tool config\n",
      "DEBUG | strands.tools.registry | tool_name=<journal> | loaded tool config\n",
      "DEBUG | strands.tools.registry | tool_count=<9> | tools configured\n",
      "DEBUG | strands.event_loop.streaming | model=<<strands.models.bedrock.BedrockModel object at 0x7ff102acadb0>> | streaming messages\n",
      "DEBUG | strands.types.models.model | formatting request\n",
      "DEBUG | strands.types.models.model | invoking model\n",
      "DEBUG | strands.types.models.model | got response from model\n",
      "/mnt/c/code/Projects/Agentic_AI_AutoGen/AWSBedrock-Project-strands-multi-agentic-system/.venv/lib/python3.12/site-packages/botocore/auth.py:422: DeprecationWarning: datetime.datetime.utcnow() is deprecated and scheduled for removal in a future version. Use timezone-aware objects to represent datetimes in UTC: datetime.datetime.now(datetime.UTC).\n",
      "  datetime_now = datetime.datetime.utcnow()\n",
      "DEBUG | strands.types.models.model | finished streaming response from model\n",
      "DEBUG | strands.tools.executor | tool_count=<3>, tool_executor=<ThreadPoolExecutorWrapper> | executing tools in parallel\n",
      "DEBUG | strands.handlers.tool_handler | tool=<{'toolUseId': 'tooluse_M4cmQvBIRyCMaHe08Gj2xA', 'name': 'get_income_statements', 'input': {'ticker': 'AAPL', 'period': 'ttm'}}> | invoking\n",
      "DEBUG | strands.handlers.tool_handler | tool=<{'toolUseId': 'tooluse_nKZr83fGTw-h0ZxJhsZT3w', 'name': 'get_balance_sheets', 'input': {'ticker': 'AAPL', 'period': 'ttm'}}> | invoking\n",
      "DEBUG | strands.handlers.tool_handler | tool=<{'toolUseId': 'tooluse_fDOjpMdfT822tv79Bt75Ig', 'name': 'get_cash_flow_statements', 'input': {'ticker': 'AAPL', 'period': 'ttm'}}> | invoking\n",
      "DEBUG | strands.tools.executor | tool_count=<3> | submitted tasks to parallel executor\n"
     ]
    },
    {
     "name": "stdout",
     "output_type": "stream",
     "text": [
      "OUTPUT FROM THE GET_CASH_FLOW_STATEMENTS TOOL: {'cash_flow_statements': [{'ticker': 'AAPL', 'report_period': '2025-03-29', 'fiscal_period': '2025-Q2', 'period': 'ttm', 'currency': 'USD', 'net_income': 97294000000.0, 'depreciation_and_amortization': 11502000000.0, 'share_based_compensation': 12239000000.0, 'net_cash_flow_from_operations': 109556000000.0, 'net_cash_flow_from_investing': 14027000000.0, 'capital_expenditure': -11070000000.0, 'property_plant_and_equipment': -807000000.0, 'business_acquisitions_and_disposals': 0.0, 'investment_acquisitions_and_disposals': 26311000000.0, 'net_cash_flow_from_financing': -129342000000.0, 'issuance_or_repayment_of_debt_securities': -6843000000.0, 'issuance_or_purchase_of_equity_shares': -101109000000.0, 'dividends_and_other_cash_distributions': -15313000000.0, 'change_in_cash_and_equivalents': -5759000000.0, 'effect_of_exchange_rate_changes': 0.0, 'ending_cash_balance': 28162000000.0, 'free_cash_flow': 98486000000.0}, {'ticker': 'AAPL', 'report_period': '2024-12-28', 'fiscal_period': '2025-Q1', 'period': 'ttm', 'currency': 'USD', 'net_income': 96150000000.0, 'depreciation_and_amortization': 11677000000.0, 'share_based_compensation': 11977000000.0, 'net_cash_flow_from_operations': 108294000000.0, 'net_cash_flow_from_investing': 10800000000.0, 'capital_expenditure': -9995000000.0, 'property_plant_and_equipment': -389000000.0, 'business_acquisitions_and_disposals': 0.0, 'investment_acquisitions_and_disposals': 22422000000.0, 'net_cash_flow_from_financing': -130769000000.0, 'issuance_or_repayment_of_debt_securities': -10967000000.0, 'issuance_or_purchase_of_equity_shares': -98416000000.0, 'dividends_and_other_cash_distributions': -15265000000.0, 'change_in_cash_and_equivalents': -11675000000.0, 'effect_of_exchange_rate_changes': 0.0, 'ending_cash_balance': 30299000000.0, 'free_cash_flow': 98299000000.0}, {'ticker': 'AAPL', 'report_period': '2024-09-28', 'fiscal_period': '2024-Q4', 'period': 'ttm', 'currency': 'USD', 'net_income': 93736000000.0, 'depreciation_and_amortization': 11445000000.0, 'share_based_compensation': 11688000000.0, 'net_cash_flow_from_operations': 118254000000.0, 'net_cash_flow_from_investing': 2935000000.0, 'capital_expenditure': -9447000000.0, 'property_plant_and_equipment': -1178000000.0, 'business_acquisitions_and_disposals': 0.0, 'investment_acquisitions_and_disposals': 13690000000.0, 'net_cash_flow_from_financing': -121983000000.0, 'issuance_or_repayment_of_debt_securities': -5998000000.0, 'issuance_or_purchase_of_equity_shares': -94949000000.0, 'dividends_and_other_cash_distributions': -15234000000.0, 'change_in_cash_and_equivalents': -794000000.0, 'effect_of_exchange_rate_changes': 0.0, 'ending_cash_balance': 29943000000.0, 'free_cash_flow': 108807000000.0}, {'ticker': 'AAPL', 'report_period': '2024-06-29', 'fiscal_period': '2024-Q3', 'period': 'ttm', 'currency': 'USD', 'net_income': 101956000000.0, 'depreciation_and_amortization': 11187000000.0, 'share_based_compensation': 11455000000.0, 'net_cash_flow_from_operations': 113041000000.0, 'net_cash_flow_from_investing': 3884000000.0, 'capital_expenditure': -8702000000.0, 'property_plant_and_equipment': -956000000.0, 'business_acquisitions_and_disposals': 0.0, 'investment_acquisitions_and_disposals': 14287000000.0, 'net_cash_flow_from_financing': -120188000000.0, 'issuance_or_repayment_of_debt_securities': -8392000000.0, 'issuance_or_purchase_of_equity_shares': -90869000000.0, 'dividends_and_other_cash_distributions': -15188000000.0, 'change_in_cash_and_equivalents': -3263000000.0, 'effect_of_exchange_rate_changes': 0.0, 'ending_cash_balance': 25565000000.0, 'free_cash_flow': 104339000000.0}, {'ticker': 'AAPL', 'report_period': '2024-03-30', 'fiscal_period': '2024-Q2', 'period': 'ttm', 'currency': 'USD', 'net_income': 100389000000.0, 'depreciation_and_amortization': 11389000000.0, 'share_based_compensation': 11203000000.0, 'net_cash_flow_from_operations': 110563000000.0, 'net_cash_flow_from_investing': 4448000000.0, 'capital_expenditure': -8644000000.0, 'property_plant_and_equipment': 120000000.0, 'business_acquisitions_and_disposals': 0.0, 'investment_acquisitions_and_disposals': 14911000000.0, 'net_cash_flow_from_financing': -108219000000.0, 'issuance_or_repayment_of_debt_securities': -5422000000.0, 'issuance_or_purchase_of_equity_shares': -81825000000.0, 'dividends_and_other_cash_distributions': -15142000000.0, 'change_in_cash_and_equivalents': 6792000000.0, 'effect_of_exchange_rate_changes': 0.0, 'ending_cash_balance': 32695000000.0, 'free_cash_flow': 101919000000.0}, {'ticker': 'AAPL', 'report_period': '2023-12-30', 'fiscal_period': '2024-Q1', 'period': 'ttm', 'currency': 'USD', 'net_income': 100913000000.0, 'depreciation_and_amortization': 11451000000.0, 'share_based_compensation': 10925000000.0, 'net_cash_flow_from_operations': 116433000000.0, 'net_cash_flow_from_investing': 7077000000.0, 'capital_expenditure': -9564000000.0, 'property_plant_and_equipment': 49000000.0, 'business_acquisitions_and_disposals': 0.0, 'investment_acquisitions_and_disposals': 18121000000.0, 'net_cash_flow_from_financing': -103510000000.0, 'issuance_or_repayment_of_debt_securities': -4270000000.0, 'issuance_or_purchase_of_equity_shares': -78214000000.0, 'dividends_and_other_cash_distributions': -15082000000.0, 'change_in_cash_and_equivalents': 20000000000.0, 'effect_of_exchange_rate_changes': 0.0, 'ending_cash_balance': 40760000000.0, 'free_cash_flow': 106869000000.0}, {'ticker': 'AAPL', 'report_period': '2023-09-30', 'fiscal_period': '2023-Q4', 'period': 'ttm', 'currency': 'USD', 'net_income': 96995000000.0, 'depreciation_and_amortization': 11519000000.0, 'share_based_compensation': 10833000000.0, 'net_cash_flow_from_operations': 110543000000.0, 'net_cash_flow_from_investing': 3705000000.0, 'capital_expenditure': -10959000000.0, 'property_plant_and_equipment': -165000000.0, 'business_acquisitions_and_disposals': 0.0, 'investment_acquisitions_and_disposals': 16001000000.0, 'net_cash_flow_from_financing': -108488000000.0, 'issuance_or_repayment_of_debt_securities': -9901000000.0, 'issuance_or_purchase_of_equity_shares': -77550000000.0, 'dividends_and_other_cash_distributions': -15025000000.0, 'change_in_cash_and_equivalents': 5760000000.0, 'effect_of_exchange_rate_changes': 0.0, 'ending_cash_balance': 29965000000.0, 'free_cash_flow': 99584000000.0}, {'ticker': 'AAPL', 'report_period': '2023-07-01', 'fiscal_period': '2023-Q3', 'period': 'ttm', 'currency': 'USD', 'net_income': 94760000000.0, 'depreciation_and_amortization': 11731000000.0, 'share_based_compensation': 10486000000.0, 'net_cash_flow_from_operations': 113072000000.0, 'net_cash_flow_from_investing': 94000000.0, 'capital_expenditure': -12085000000.0, 'property_plant_and_equipment': -152000000.0, 'business_acquisitions_and_disposals': 0.0, 'investment_acquisitions_and_disposals': 13666000000.0, 'net_cash_flow_from_financing': -112129000000.0, 'issuance_or_repayment_of_debt_securities': -10237000000.0, 'issuance_or_purchase_of_equity_shares': -80975000000.0, 'dividends_and_other_cash_distributions': -14970000000.0, 'change_in_cash_and_equivalents': 1037000000.0, 'effect_of_exchange_rate_changes': 0.0, 'ending_cash_balance': 28408000000.0, 'free_cash_flow': 100987000000.0}, {'ticker': 'AAPL', 'report_period': '2023-04-01', 'fiscal_period': '2023-Q2', 'period': 'ttm', 'currency': 'USD', 'net_income': 94321000000.0, 'depreciation_and_amortization': 11484000000.0, 'share_based_compensation': 10112000000.0, 'net_cash_flow_from_operations': 109584000000.0, 'net_cash_flow_from_investing': 3891000000.0, 'capital_expenditure': -12094000000.0, 'property_plant_and_equipment': -447000000.0, 'business_acquisitions_and_disposals': 0.0, 'investment_acquisitions_and_disposals': 17583000000.0, 'net_cash_flow_from_financing': -115526000000.0, 'issuance_or_repayment_of_debt_securities': -8983000000.0, 'issuance_or_purchase_of_equity_shares': -85362000000.0, 'dividends_and_other_cash_distributions': -14932000000.0, 'change_in_cash_and_equivalents': -2051000000.0, 'effect_of_exchange_rate_changes': 0.0, 'ending_cash_balance': 24687000000.0, 'free_cash_flow': 97490000000.0}, {'ticker': 'AAPL', 'report_period': '2022-12-31', 'fiscal_period': '2023-Q1', 'period': 'ttm', 'currency': 'USD', 'net_income': 95171000000.0, 'depreciation_and_amortization': 11323000000.0, 'share_based_compensation': 9678000000.0, 'net_cash_flow_from_operations': 109190000000.0, 'net_cash_flow_from_investing': -7693000000.0, 'capital_expenditure': -11692000000.0, 'property_plant_and_equipment': -834000000.0, 'business_acquisitions_and_disposals': 0.0, 'investment_acquisitions_and_disposals': 5852000000.0, 'net_cash_flow_from_financing': -118153000000.0, 'issuance_or_repayment_of_debt_securities': -8738000000.0, 'issuance_or_purchase_of_equity_shares': -88399000000.0, 'dividends_and_other_cash_distributions': -14877000000.0, 'change_in_cash_and_equivalents': -16656000000.0, 'effect_of_exchange_rate_changes': 0.0, 'ending_cash_balance': 20535000000.0, 'free_cash_flow': 97498000000.0}]}\n",
      "OUTPUT FROM THE GET_BALANCE_SHEETS TOOL: {'balance_sheets': [{'ticker': 'AAPL', 'report_period': '2025-03-29', 'fiscal_period': '2025-Q2', 'period': 'ttm', 'currency': 'USD', 'total_assets': 331233000000.0, 'current_assets': 118674000000.0, 'cash_and_equivalents': 28162000000.0, 'inventory': 6269000000.0, 'current_investments': 20336000000.0, 'trade_and_non_trade_receivables': 49798000000.0, 'non_current_assets': 212559000000.0, 'property_plant_and_equipment': 46876000000.0, 'goodwill_and_intangible_assets': 0.0, 'investments': 104760000000.0, 'non_current_investments': 84424000000.0, 'tax_assets': 0.0, 'total_liabilities': 264437000000.0, 'current_liabilities': 144571000000.0, 'current_debt': 19620000000.0, 'trade_and_non_trade_payables': 54126000000.0, 'deferred_revenue': 8976000000.0, 'deposit_liabilities': 0.0, 'non_current_liabilities': 119866000000.0, 'non_current_debt': 78566000000.0, 'tax_liabilities': 0.0, 'shareholders_equity': 66796000000.0, 'retained_earnings': -15552000000.0, 'accumulated_other_comprehensive_income': -6363000000.0, 'outstanding_shares': 15022073000.0, 'total_debt': 98186000000.0}, {'ticker': 'AAPL', 'report_period': '2024-12-28', 'fiscal_period': '2025-Q1', 'period': 'ttm', 'currency': 'USD', 'total_assets': 344085000000.0, 'current_assets': 133240000000.0, 'cash_and_equivalents': 30299000000.0, 'inventory': 6911000000.0, 'current_investments': 23476000000.0, 'trade_and_non_trade_receivables': 59306000000.0, 'non_current_assets': 210845000000.0, 'property_plant_and_equipment': 46069000000.0, 'goodwill_and_intangible_assets': 0.0, 'investments': 111069000000.0, 'non_current_investments': 87593000000.0, 'tax_assets': 0.0, 'total_liabilities': 277327000000.0, 'current_liabilities': 144365000000.0, 'current_debt': 12843000000.0, 'trade_and_non_trade_payables': 61910000000.0, 'deferred_revenue': 8461000000.0, 'deposit_liabilities': 0.0, 'non_current_liabilities': 132962000000.0, 'non_current_debt': 83956000000.0, 'tax_liabilities': 0.0, 'shareholders_equity': 66758000000.0, 'retained_earnings': -11221000000.0, 'accumulated_other_comprehensive_income': -6789000000.0, 'outstanding_shares': 15115823000.0, 'total_debt': 96799000000.0}, {'ticker': 'AAPL', 'report_period': '2024-09-28', 'fiscal_period': '2024-Q4', 'period': 'ttm', 'currency': 'USD', 'total_assets': 364980000000.0, 'current_assets': 152987000000.0, 'cash_and_equivalents': 29943000000.0, 'inventory': 7286000000.0, 'current_investments': 35228000000.0, 'trade_and_non_trade_receivables': 66243000000.0, 'non_current_assets': 211993000000.0, 'property_plant_and_equipment': 45680000000.0, 'goodwill_and_intangible_assets': 0.0, 'investments': 126707000000.0, 'non_current_investments': 91479000000.0, 'tax_assets': 0.0, 'total_liabilities': 308030000000.0, 'current_liabilities': 176392000000.0, 'current_debt': 20879000000.0, 'trade_and_non_trade_payables': 68960000000.0, 'deferred_revenue': 8249000000.0, 'deposit_liabilities': 0.0, 'non_current_liabilities': 131638000000.0, 'non_current_debt': 85750000000.0, 'tax_liabilities': 0.0, 'shareholders_equity': 56950000000.0, 'retained_earnings': -19154000000.0, 'accumulated_other_comprehensive_income': -7172000000.0, 'outstanding_shares': 15204137000.0, 'total_debt': 106629000000.0}, {'ticker': 'AAPL', 'report_period': '2024-06-29', 'fiscal_period': '2024-Q3', 'period': 'ttm', 'currency': 'USD', 'total_assets': 331612000000.0, 'current_assets': 125435000000.0, 'cash_and_equivalents': 25565000000.0, 'inventory': 6165000000.0, 'current_investments': 36236000000.0, 'trade_and_non_trade_receivables': 43172000000.0, 'non_current_assets': 206177000000.0, 'property_plant_and_equipment': 44502000000.0, 'goodwill_and_intangible_assets': 0.0, 'investments': 127476000000.0, 'non_current_investments': 91240000000.0, 'tax_assets': 0.0, 'total_liabilities': 264904000000.0, 'current_liabilities': 131624000000.0, 'current_debt': 15108000000.0, 'trade_and_non_trade_payables': 47574000000.0, 'deferred_revenue': 8053000000.0, 'deposit_liabilities': 0.0, 'non_current_liabilities': 133280000000.0, 'non_current_debt': 86196000000.0, 'tax_liabilities': 0.0, 'shareholders_equity': 66708000000.0, 'retained_earnings': -4726000000.0, 'accumulated_other_comprehensive_income': -8416000000.0, 'outstanding_shares': 15334082000.0, 'total_debt': 101304000000.0}, {'ticker': 'AAPL', 'report_period': '2024-03-30', 'fiscal_period': '2024-Q2', 'period': 'ttm', 'currency': 'USD', 'total_assets': 337411000000.0, 'current_assets': 128416000000.0, 'cash_and_equivalents': 32695000000.0, 'inventory': 6232000000.0, 'current_investments': 34455000000.0, 'trade_and_non_trade_receivables': 41150000000.0, 'non_current_assets': 208995000000.0, 'property_plant_and_equipment': 43546000000.0, 'goodwill_and_intangible_assets': 0.0, 'investments': 129642000000.0, 'non_current_investments': 95187000000.0, 'tax_assets': 0.0, 'total_liabilities': 263217000000.0, 'current_liabilities': 123822000000.0, 'current_debt': 12759000000.0, 'trade_and_non_trade_payables': 45753000000.0, 'deferred_revenue': 8012000000.0, 'deposit_liabilities': 0.0, 'non_current_liabilities': 139395000000.0, 'non_current_debt': 91831000000.0, 'tax_liabilities': 0.0, 'shareholders_equity': 74194000000.0, 'retained_earnings': 4339000000.0, 'accumulated_other_comprehensive_income': -8960000000.0, 'outstanding_shares': 15441881000.0, 'total_debt': 104590000000.0}, {'ticker': 'AAPL', 'report_period': '2023-12-30', 'fiscal_period': '2024-Q1', 'period': 'ttm', 'currency': 'USD', 'total_assets': 353514000000.0, 'current_assets': 143692000000.0, 'cash_and_equivalents': 40760000000.0, 'inventory': 6511000000.0, 'current_investments': 32340000000.0, 'trade_and_non_trade_receivables': 50102000000.0, 'non_current_assets': 209822000000.0, 'property_plant_and_equipment': 43666000000.0, 'goodwill_and_intangible_assets': 0.0, 'investments': 131815000000.0, 'non_current_investments': 99475000000.0, 'tax_assets': 0.0, 'total_liabilities': 279414000000.0, 'current_liabilities': 133973000000.0, 'current_debt': 12952000000.0, 'trade_and_non_trade_payables': 58146000000.0, 'deferred_revenue': 8264000000.0, 'deposit_liabilities': 0.0, 'non_current_liabilities': 145441000000.0, 'non_current_debt': 95088000000.0, 'tax_liabilities': 0.0, 'shareholders_equity': 74100000000.0, 'retained_earnings': 8242000000.0, 'accumulated_other_comprehensive_income': -9378000000.0, 'outstanding_shares': 15552752000.0, 'total_debt': 108040000000.0}, {'ticker': 'AAPL', 'report_period': '2023-09-30', 'fiscal_period': '2023-Q4', 'period': 'ttm', 'currency': 'USD', 'total_assets': 352583000000.0, 'current_assets': 143566000000.0, 'cash_and_equivalents': 29965000000.0, 'inventory': 6331000000.0, 'current_investments': 31590000000.0, 'trade_and_non_trade_receivables': 60985000000.0, 'non_current_assets': 209017000000.0, 'property_plant_and_equipment': 43715000000.0, 'goodwill_and_intangible_assets': 0.0, 'investments': 132134000000.0, 'non_current_investments': 100544000000.0, 'tax_assets': 0.0, 'total_liabilities': 290437000000.0, 'current_liabilities': 145308000000.0, 'current_debt': 15807000000.0, 'trade_and_non_trade_payables': 62611000000.0, 'deferred_revenue': 8061000000.0, 'deposit_liabilities': 0.0, 'non_current_liabilities': 145129000000.0, 'non_current_debt': 95281000000.0, 'tax_liabilities': 0.0, 'shareholders_equity': 62146000000.0, 'retained_earnings': -214000000.0, 'accumulated_other_comprehensive_income': -11452000000.0, 'outstanding_shares': 15634232000.0, 'total_debt': 111088000000.0}, {'ticker': 'AAPL', 'report_period': '2023-07-01', 'fiscal_period': '2023-Q3', 'period': 'ttm', 'currency': 'USD', 'total_assets': 335038000000.0, 'current_assets': 122659000000.0, 'cash_and_equivalents': 28408000000.0, 'inventory': 7351000000.0, 'current_investments': 34074000000.0, 'trade_and_non_trade_receivables': 39186000000.0, 'non_current_assets': 212379000000.0, 'property_plant_and_equipment': 43550000000.0, 'goodwill_and_intangible_assets': 0.0, 'investments': 138135000000.0, 'non_current_investments': 104061000000.0, 'tax_assets': 0.0, 'total_liabilities': 274764000000.0, 'current_liabilities': 124963000000.0, 'current_debt': 11209000000.0, 'trade_and_non_trade_payables': 46699000000.0, 'deferred_revenue': 8158000000.0, 'deposit_liabilities': 0.0, 'non_current_liabilities': 149801000000.0, 'non_current_debt': 98071000000.0, 'tax_liabilities': 0.0, 'shareholders_equity': 60274000000.0, 'retained_earnings': 1408000000.0, 'accumulated_other_comprehensive_income': -11801000000.0, 'outstanding_shares': 15728702000.0, 'total_debt': 109280000000.0}, {'ticker': 'AAPL', 'report_period': '2023-04-01', 'fiscal_period': '2023-Q2', 'period': 'ttm', 'currency': 'USD', 'total_assets': 332160000000.0, 'current_assets': 112913000000.0, 'cash_and_equivalents': 24687000000.0, 'inventory': 7482000000.0, 'current_investments': 31185000000.0, 'trade_and_non_trade_receivables': 35899000000.0, 'non_current_assets': 219247000000.0, 'property_plant_and_equipment': 43398000000.0, 'goodwill_and_intangible_assets': 0.0, 'investments': 141646000000.0, 'non_current_investments': 110461000000.0, 'tax_assets': 0.0, 'total_liabilities': 270002000000.0, 'current_liabilities': 120075000000.0, 'current_debt': 12574000000.0, 'trade_and_non_trade_payables': 42945000000.0, 'deferred_revenue': 8131000000.0, 'deposit_liabilities': 0.0, 'non_current_liabilities': 149927000000.0, 'non_current_debt': 97041000000.0, 'tax_liabilities': 0.0, 'shareholders_equity': 62158000000.0, 'retained_earnings': 4336000000.0, 'accumulated_other_comprehensive_income': -11746000000.0, 'outstanding_shares': 15821946000.0, 'total_debt': 109615000000.0}, {'ticker': 'AAPL', 'report_period': '2022-12-31', 'fiscal_period': '2023-Q1', 'period': 'ttm', 'currency': 'USD', 'total_assets': 346747000000.0, 'current_assets': 128777000000.0, 'cash_and_equivalents': 20535000000.0, 'inventory': 6820000000.0, 'current_investments': 30820000000.0, 'trade_and_non_trade_receivables': 54180000000.0, 'non_current_assets': 217970000000.0, 'property_plant_and_equipment': 42951000000.0, 'goodwill_and_intangible_assets': 0.0, 'investments': 144915000000.0, 'non_current_investments': 114095000000.0, 'tax_assets': 0.0, 'total_liabilities': 290020000000.0, 'current_liabilities': 137286000000.0, 'current_debt': 11483000000.0, 'trade_and_non_trade_payables': 57918000000.0, 'deferred_revenue': 7992000000.0, 'deposit_liabilities': 0.0, 'non_current_liabilities': 152734000000.0, 'non_current_debt': 99627000000.0, 'tax_liabilities': 0.0, 'shareholders_equity': 56727000000.0, 'retained_earnings': 3240000000.0, 'accumulated_other_comprehensive_income': -12912000000.0, 'outstanding_shares': 15908118000.0, 'total_debt': 111110000000.0}]}\n"
     ]
    },
    {
     "name": "stderr",
     "output_type": "stream",
     "text": [
      "DEBUG | strands.event_loop.streaming | model=<<strands.models.bedrock.BedrockModel object at 0x7ff102acadb0>> | streaming messages\n",
      "DEBUG | strands.types.models.model | formatting request\n",
      "DEBUG | strands.types.models.model | invoking model\n",
      "DEBUG | strands.types.models.model | got response from model\n",
      "DEBUG | strands.types.models.model | finished streaming response from model\n",
      "DEBUG | strands.handlers.tool_handler | tool=<{'toolUseId': 'tooluse_0DpN295TTmumRvkZN6TpjQ', 'name': 'get_income_statements', 'input': {'ticker': 'AAPL', 'period': 'annual'}}> | invoking\n",
      "DEBUG | strands.event_loop.streaming | model=<<strands.models.bedrock.BedrockModel object at 0x7ff102acadb0>> | streaming messages\n",
      "DEBUG | strands.types.models.model | formatting request\n",
      "DEBUG | strands.types.models.model | invoking model\n",
      "DEBUG | strands.types.models.model | got response from model\n",
      "DEBUG | strands.types.models.model | finished streaming response from model\n",
      "DEBUG | strands.handlers.tool_handler | tool=<{'toolUseId': 'tooluse_RH18hgTDRPisuSjJbdvcdQ', 'name': 'mem0_memory', 'input': {'action': 'store', 'content': \"Key financial metrics for AAPL: Total Assets: $364.98 billion, Current Assets: $152.99 billion, Cash and Equivalents: $29.94 billion, Current Liabilities: $176.39 billion, Total Liabilities: $308.03 billion, Shareholders' Equity: $56.95 billion, Net Income: $93.74 billion, Net Cash Flow from Operations: $118.25 billion, Capital Expenditure: -$9.45 billion, Free Cash Flow: $108.81 billion.\"}}> | invoking\n",
      "/mnt/c/code/Projects/Agentic_AI_AutoGen/AWSBedrock-Project-strands-multi-agentic-system/.venv/lib/python3.12/site-packages/faiss/loader.py:49: DeprecationWarning: numpy.core._multiarray_umath is deprecated and has been renamed to numpy._core._multiarray_umath. The numpy._core namespace contains private NumPy internals and its use is discouraged, as NumPy internals can change without warning in any release. In practice, most real-world usage of numpy.core is to access functionality in the public NumPy API. If that is the case, use the public NumPy API. If not, you are using NumPy internals. If you would still like to access an internal attribute, use numpy._core._multiarray_umath.__cpu_features__.\n",
      "  from numpy.core._multiarray_umath import __cpu_features__\n",
      "<frozen importlib._bootstrap>:488: DeprecationWarning: builtin type SwigPyPacked has no __module__ attribute\n",
      "<frozen importlib._bootstrap>:488: DeprecationWarning: builtin type SwigPyObject has no __module__ attribute\n",
      "<frozen importlib._bootstrap>:488: DeprecationWarning: builtin type swigvarlink has no __module__ attribute\n"
     ]
    },
    {
     "data": {
      "text/html": [
       "<pre style=\"white-space:pre;overflow-x:auto;line-height:normal;font-family:Menlo,'DejaVu Sans Mono',consolas,'Courier New',monospace\"><span style=\"color: #008000; text-decoration-color: #008000\">╭──────────────────────────────────────────────────── </span><span style=\"color: #008000; text-decoration-color: #008000; font-weight: bold\">agent </span><span style=\"color: #008000; text-decoration-color: #008000\"> ─────────────────────────────────────────────────────╮</span>\n",
       "<span style=\"color: #008000; text-decoration-color: #008000\">│</span> Key financial metrics for AAPL: Total Assets: $364.98 billion, Current Assets: $152.99 billion, Cash and        <span style=\"color: #008000; text-decoration-color: #008000\">│</span>\n",
       "<span style=\"color: #008000; text-decoration-color: #008000\">│</span> Equivalents: $29.94 billion, Current Liabilities: $176.39 billion, Total Liabilities: $308.03 billion,          <span style=\"color: #008000; text-decoration-color: #008000\">│</span>\n",
       "<span style=\"color: #008000; text-decoration-color: #008000\">│</span> Shareholders' Equity: $56.95 billion, Net Income: $93.74 billion, Net Cash Flow from Operations: $118.25        <span style=\"color: #008000; text-decoration-color: #008000\">│</span>\n",
       "<span style=\"color: #008000; text-decoration-color: #008000\">│</span> billion, Capital Expenditure: -$9.45 billion, Free Cash Flow: $108.81 billion.                                  <span style=\"color: #008000; text-decoration-color: #008000\">│</span>\n",
       "<span style=\"color: #008000; text-decoration-color: #008000\">╰─────────────────────────────────────────────────────────────────────────────────────────────────────────────────╯</span>\n",
       "</pre>\n"
      ],
      "text/plain": [
       "\u001b[32m╭─\u001b[0m\u001b[32m───────────────────────────────────────────────────\u001b[0m\u001b[32m \u001b[0m\u001b[1;32magent \u001b[0m\u001b[32m \u001b[0m\u001b[32m────────────────────────────────────────────────────\u001b[0m\u001b[32m─╮\u001b[0m\n",
       "\u001b[32m│\u001b[0m Key financial metrics for AAPL: Total Assets: $364.98 billion, Current Assets: $152.99 billion, Cash and        \u001b[32m│\u001b[0m\n",
       "\u001b[32m│\u001b[0m Equivalents: $29.94 billion, Current Liabilities: $176.39 billion, Total Liabilities: $308.03 billion,          \u001b[32m│\u001b[0m\n",
       "\u001b[32m│\u001b[0m Shareholders' Equity: $56.95 billion, Net Income: $93.74 billion, Net Cash Flow from Operations: $118.25        \u001b[32m│\u001b[0m\n",
       "\u001b[32m│\u001b[0m billion, Capital Expenditure: -$9.45 billion, Free Cash Flow: $108.81 billion.                                  \u001b[32m│\u001b[0m\n",
       "\u001b[32m╰─────────────────────────────────────────────────────────────────────────────────────────────────────────────────╯\u001b[0m\n"
      ]
     },
     "metadata": {},
     "output_type": "display_data"
    },
    {
     "data": {
      "text/html": [
       "<pre style=\"white-space:pre;overflow-x:auto;line-height:normal;font-family:Menlo,'DejaVu Sans Mono',consolas,'Courier New',monospace\"><span style=\"color: #800000; text-decoration-color: #800000\">╭─────────────────────────────────────────── ❌ Memory Operation Error ───────────────────────────────────────────╮</span>\n",
       "<span style=\"color: #800000; text-decoration-color: #800000\">│</span> <span style=\"color: #800000; text-decoration-color: #800000\">Either user_id or agent_id must be provided</span>                                                                     <span style=\"color: #800000; text-decoration-color: #800000\">│</span>\n",
       "<span style=\"color: #800000; text-decoration-color: #800000\">╰─────────────────────────────────────────────────────────────────────────────────────────────────────────────────╯</span>\n",
       "</pre>\n"
      ],
      "text/plain": [
       "\u001b[31m╭─\u001b[0m\u001b[31m──────────────────────────────────────────\u001b[0m\u001b[31m ❌ Memory Operation Error \u001b[0m\u001b[31m──────────────────────────────────────────\u001b[0m\u001b[31m─╮\u001b[0m\n",
       "\u001b[31m│\u001b[0m \u001b[31mEither user_id or agent_id must be provided\u001b[0m                                                                     \u001b[31m│\u001b[0m\n",
       "\u001b[31m╰─────────────────────────────────────────────────────────────────────────────────────────────────────────────────╯\u001b[0m\n"
      ]
     },
     "metadata": {},
     "output_type": "display_data"
    },
    {
     "name": "stderr",
     "output_type": "stream",
     "text": [
      "DEBUG | strands.event_loop.streaming | model=<<strands.models.bedrock.BedrockModel object at 0x7ff102acadb0>> | streaming messages\n",
      "DEBUG | strands.types.models.model | formatting request\n",
      "DEBUG | strands.types.models.model | invoking model\n",
      "DEBUG | strands.types.models.model | got response from model\n",
      "/mnt/c/code/Projects/Agentic_AI_AutoGen/AWSBedrock-Project-strands-multi-agentic-system/.venv/lib/python3.12/site-packages/botocore/auth.py:422: DeprecationWarning: datetime.datetime.utcnow() is deprecated and scheduled for removal in a future version. Use timezone-aware objects to represent datetimes in UTC: datetime.datetime.now(datetime.UTC).\n",
      "  datetime_now = datetime.datetime.utcnow()\n",
      "DEBUG | strands.types.models.model | finished streaming response from model\n",
      "DEBUG | strands.agent.conversation_manager.sliding_window_conversation_manager | window_size=<8>, message_count=<40> | skipping context reduction\n"
     ]
    },
    {
     "data": {
      "text/plain": [
       "AgentResult(stop_reason='end_turn', message={'role': 'assistant', 'content': [{'text': \"<thinking> It seems there was an error storing the key findings in memory because either a user_id or agent_id was not provided. Since I don't have this information, I'll proceed without storing the data in memory.\\n\\nI'll create a journal entry summarizing today's AAPL analysis with actionable insights.</thinking>\\n\\n### Journal Entry\\n**Date**: [Current Date]\\n**Action**: Summarize AAPL Analysis\\n**Content**:\\n- Conducted a comprehensive financial analysis of AAPL.\\n- Key findings include strong revenue growth, stable profit margins, and robust cash generation.\\n- Current ratio is 0.87, and debt-to-equity ratio is 5.40.\\n- Net income is $93.74 billion, and free cash flow is $108.81 billion.\\n- Recommend buying AAPL stock based on strong financial health and liquidity.\\n\\n### Final Recommendations\\n- **Buy Recommendation**: Given AAPL's consistent revenue growth, strong cash generation, and healthy financial ratios, it is recommended to buy AAPL stock.\\n- **Risk Consideration**: Investors should consider the company's high debt levels relative to equity.\\n\\nThis concludes the comprehensive financial analysis of AAPL. For more detailed insights, refer to the specific financial statements and ratios provided above.\"}]}, metrics=EventLoopMetrics(cycle_count=4, tool_metrics={'get_income_statements': ToolMetrics(tool={'toolUseId': 'tooluse_0DpN295TTmumRvkZN6TpjQ', 'name': 'get_income_statements', 'input': {'ticker': 'AAPL', 'period': 'annual'}}, call_count=2, success_count=2, error_count=0, total_time=0.0066716670989990234), 'get_cash_flow_statements': ToolMetrics(tool={'toolUseId': 'tooluse_fDOjpMdfT822tv79Bt75Ig', 'name': 'get_cash_flow_statements', 'input': {'ticker': 'AAPL', 'period': 'ttm'}}, call_count=1, success_count=1, error_count=0, total_time=0.24100804328918457), 'get_balance_sheets': ToolMetrics(tool={'toolUseId': 'tooluse_nKZr83fGTw-h0ZxJhsZT3w', 'name': 'get_balance_sheets', 'input': {'ticker': 'AAPL', 'period': 'ttm'}}, call_count=1, success_count=1, error_count=0, total_time=0.2433938980102539), 'mem0_memory': ToolMetrics(tool={'toolUseId': 'tooluse_RH18hgTDRPisuSjJbdvcdQ', 'name': 'mem0_memory', 'input': {'action': 'store', 'content': \"Key financial metrics for AAPL: Total Assets: $364.98 billion, Current Assets: $152.99 billion, Cash and Equivalents: $29.94 billion, Current Liabilities: $176.39 billion, Total Liabilities: $308.03 billion, Shareholders' Equity: $56.95 billion, Net Income: $93.74 billion, Net Cash Flow from Operations: $118.25 billion, Capital Expenditure: -$9.45 billion, Free Cash Flow: $108.81 billion.\"}}, call_count=1, success_count=0, error_count=1, total_time=0.6151697635650635)}, cycle_durations=[2.190228223800659], traces=[<strands.telemetry.metrics.Trace object at 0x7ff0da958620>, <strands.telemetry.metrics.Trace object at 0x7ff0da3ad8b0>, <strands.telemetry.metrics.Trace object at 0x7ff0da56e930>, <strands.telemetry.metrics.Trace object at 0x7ff0c91722a0>], accumulated_usage={'inputTokens': 56255, 'outputTokens': 1529, 'totalTokens': 57784}, accumulated_metrics={'latencyMs': 10176}), state={})"
      ]
     },
     "execution_count": 23,
     "metadata": {},
     "output_type": "execute_result"
    }
   ],
   "source": [
    "# simply run the agent to see the outputs\n",
    "finance_agent(query)"
   ]
  },
  {
   "cell_type": "code",
   "execution_count": null,
   "metadata": {},
   "outputs": [],
   "source": []
  },
  {
   "cell_type": "code",
   "execution_count": null,
   "metadata": {},
   "outputs": [],
   "source": []
  }
 ],
 "metadata": {
  "kernelspec": {
   "display_name": ".venv",
   "language": "python",
   "name": "python3"
  },
  "language_info": {
   "codemirror_mode": {
    "name": "ipython",
    "version": 3
   },
   "file_extension": ".py",
   "mimetype": "text/x-python",
   "name": "python",
   "nbconvert_exporter": "python",
   "pygments_lexer": "ipython3",
   "version": "3.12.3"
  }
 },
 "nbformat": 4,
 "nbformat_minor": 2
}
